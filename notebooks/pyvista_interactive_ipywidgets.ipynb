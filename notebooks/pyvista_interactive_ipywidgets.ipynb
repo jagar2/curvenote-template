{
 "cells": [
  {
   "cell_type": "markdown",
   "id": "d97f0827-4f27-4a62-af55-ead17042e96e",
   "metadata": {},
   "source": [
    "---\n",
    "title: pyvista + ipywidgets volume rendering\n",
    "author: Georgios Varnavides\n",
    "date: 2023/07/30\n",
    "---\n",
    "\n",
    "This is an example widget illustrating how to use pyvista and ipywidgets together for 3D volume rendering."
   ]
  },
  {
   "cell_type": "code",
   "execution_count": 56,
   "id": "a5efbae7-76ee-4161-8952-83800d4e4f87",
   "metadata": {},
   "outputs": [
    {
     "data": {
      "application/vnd.jupyter.widget-view+json": {
       "model_id": "86fd4ccd42b44bb3b1d1b160adf1551d",
       "version_major": 2,
       "version_minor": 0
      },
      "text/plain": [
       "HBox(children=(Widget(value=\"<iframe src='http://localhost:38647/index.html?ui=P_0x7f9371de8150_2&reconnect=au…"
      ]
     },
     "metadata": {},
     "output_type": "display_data"
    }
   ],
   "source": [
    "#| label: app:pyvista_interactive_ipywidgets\n",
    "# Widget combining pyvista + ipywidgets for volume rendering.\n",
    "\n",
    "from IPython.display import display\n",
    "import matplotlib.pyplot as plt\n",
    "import pyvista as pv\n",
    "import vtk\n",
    "from ipywidgets import Checkbox, IntSlider, Layout, HBox, VBox, Label, Dropdown\n",
    "import numpy as np\n",
    "import h5py\n",
    "\n",
    "# Data\n",
    "with h5py.File(\"data/CNT_overlap_tomo_missing.h5\",\"r\") as f:\n",
    "    values = f['reconstruction'][:]\n",
    "\n",
    "nx, ny, nz = values.shape\n",
    "\n",
    "grid = pv.ImageData(\n",
    "    dimensions=[nx+1,ny+1,nz+1],\n",
    "    origin=(0,0,0),\n",
    "    spacing=(1,1,1),\n",
    ")\n",
    "grid.cell_data[\"values\"] = values.flatten(order=\"F\")\n",
    "\n",
    "pl = pv.Plotter()\n",
    "\n",
    "vol = pl.add_volume(\n",
    "    grid,\n",
    "    name='volume',\n",
    "    opacity=\"sigmoid\",\n",
    "    cmap='magma',\n",
    "    show_scalar_bar=False,\n",
    ")\n",
    "\n",
    "grid_slice_x = grid.slice(\n",
    "    normal='x',\n",
    "    origin=(nx//2,ny//2,nz//2),\n",
    ")\n",
    "\n",
    "grid_slice_y = grid.slice(\n",
    "    normal='y',\n",
    "    origin=(nx//2,ny//2,nz//2),\n",
    ")\n",
    "\n",
    "grid_slice_z = grid.slice(\n",
    "    normal='z',\n",
    "    origin=(nx//2,ny//2,nz//2),\n",
    ")\n",
    "\n",
    "volume_clip_plane = pl.add_volume_clip_plane(\n",
    "    vol,\n",
    "    normal='x',\n",
    "    origin=(0,ny//2,nz//2),\n",
    ")\n",
    "volume_clip_plane.Off()\n",
    "\n",
    "slice_x = pl.add_mesh(\n",
    "    grid_slice_x,\n",
    "    show_scalar_bar=False,\n",
    "    cmap='magma',\n",
    "    opacity=0.85,\n",
    "    name=\"slice-x\"\n",
    ")\n",
    "\n",
    "slice_y = pl.add_mesh(\n",
    "    grid_slice_y,\n",
    "    show_scalar_bar=False,\n",
    "    cmap='magma',\n",
    "    opacity=0.85,\n",
    "    name=\"slice-y\"\n",
    ")\n",
    "\n",
    "slice_z = pl.add_mesh(\n",
    "    grid_slice_z,\n",
    "    show_scalar_bar=False,\n",
    "    cmap='magma',\n",
    "    opacity=0.85,\n",
    "    name=\"slice-z\"\n",
    ")\n",
    "\n",
    "slices = [slice_x,slice_y,slice_z]\n",
    "\n",
    "for slice in slices:\n",
    "    slice.SetVisibility(False)\n",
    "\n",
    "pl.camera.zoom(0.75)\n",
    "\n",
    "viewer = pl.show(\n",
    "    return_viewer = True,\n",
    "    interactive_update=True,\n",
    "    window_size=(400,400),\n",
    ")\n",
    "\n",
    "def update_x_slice(change):\n",
    "    offset = nx-change['new']\n",
    "    cy = ny - cy_slider.value\n",
    "    cz = nz - cz_slider.value\n",
    "    \n",
    "    pl.remove_actor(slices[0])\n",
    "\n",
    "    grid_slice_x = grid.slice(\n",
    "        normal='x',\n",
    "        origin=(offset,cy,cz),\n",
    "    )\n",
    "    \n",
    "    slices[0] = pl.add_mesh(\n",
    "        grid_slice_x,\n",
    "        show_scalar_bar=False,\n",
    "        cmap='magma',\n",
    "        opacity=0.85,\n",
    "        name=\"slice-x\"\n",
    "    )\n",
    "    pl.update()\n",
    "    return None\n",
    "\n",
    "def update_y_slice(change):\n",
    "    offset = ny-change['new']\n",
    "    cx = nx - cx_slider.value\n",
    "    cz = nz - cz_slider.value\n",
    "    \n",
    "    pl.remove_actor(slices[1])\n",
    "\n",
    "    grid_slice_y = grid.slice(\n",
    "        normal='y',\n",
    "        origin=(cx,offset,cz),\n",
    "    )\n",
    "    \n",
    "    slices[1] = pl.add_mesh(\n",
    "        grid_slice_y,\n",
    "        show_scalar_bar=False,\n",
    "        cmap='magma',\n",
    "        opacity=0.85,\n",
    "        name=\"slice-y\"\n",
    "    )\n",
    "    pl.update()\n",
    "    return None\n",
    "\n",
    "def update_z_slice(change):\n",
    "    offset = nz-change['new']\n",
    "    cx = nx - cx_slider.value\n",
    "    cy = ny - cy_slider.value\n",
    "    \n",
    "    pl.remove_actor(slices[2])\n",
    "\n",
    "    grid_slice_z = grid.slice(\n",
    "        normal='z',\n",
    "        origin=(cx,cy,offset),\n",
    "    )\n",
    "    \n",
    "    slices[2] = pl.add_mesh(\n",
    "        grid_slice_z,\n",
    "        show_scalar_bar=False,\n",
    "        cmap='magma',\n",
    "        opacity=0.85,\n",
    "        name=\"slice-z\"\n",
    "    )\n",
    "    pl.update()\n",
    "    return None\n",
    "\n",
    "def toggle_x_slice(change):\n",
    "    visible = change['new']\n",
    "    slices[0].SetVisibility(visible)\n",
    "    pl.update()\n",
    "    return None\n",
    "\n",
    "def toggle_y_slice(change):\n",
    "    visible = change['new']\n",
    "    slices[1].SetVisibility(visible)\n",
    "    pl.update()\n",
    "    return None\n",
    "\n",
    "def toggle_z_slice(change):\n",
    "    visible = change['new']\n",
    "    slices[2].SetVisibility(visible)\n",
    "    pl.update()\n",
    "    return None\n",
    "\n",
    "def toggle_clip_plane(change):\n",
    "    visible = change['new']\n",
    "    if visible:\n",
    "        volume_clip_plane.On()\n",
    "    else:\n",
    "        volume_clip_plane.Off()\n",
    "    pl.update()\n",
    "    return None\n",
    "\n",
    "def toggle_vol(change):\n",
    "    visible = change['new']\n",
    "    vol.SetVisibility(visible)\n",
    "    pl.update()\n",
    "    return None\n",
    "\n",
    "# Widgets \n",
    "sequential_cmaps = [\n",
    "    'viridis', 'plasma', 'inferno', 'magma', 'cividis','turbo',\n",
    "    'Greys', 'Purples', 'Blues', 'Greens', 'Oranges', 'Reds',\n",
    "    'YlOrBr', 'YlOrRd', 'OrRd', 'PuRd', 'RdPu', 'BuPu',\n",
    "    'GnBu', 'PuBu', 'YlGnBu', 'PuBuGn', 'BuGn', 'YlGn'\n",
    "]\n",
    "\n",
    "def update_colormap(change):\n",
    "    cmap_string = change['new']\n",
    "    cf = vtk.vtkColorTransferFunction()\n",
    "    cmap = pv.LookupTable(cmap_string)\n",
    "    \n",
    "    for ii in range(cmap.n_values):\n",
    "        cf.AddRGBPoint(ii, *cmap(ii/(cmap.n_values-1))[:-1])\n",
    "    \n",
    "    vol.prop.SetColor(0,cf)\n",
    "    pl.update()\n",
    "    return None\n",
    "\n",
    "cmap_widget =Dropdown(options=sequential_cmaps,value='magma',description=\"Colormap\",indent=False,layout=Layout(width='175px'))\n",
    "cmap_widget.observe(update_colormap,names='value')\n",
    "\n",
    "checkbox_layout = Layout(width='175px')\n",
    "\n",
    "vol_checkbox = Checkbox(\n",
    "    value=True,\n",
    "    description='Show Vol',\n",
    "    indent=True,\n",
    "    layout=checkbox_layout,\n",
    ")\n",
    "vol_checkbox.observe(toggle_vol,names='value')\n",
    "\n",
    "clip_checkbox = Checkbox(\n",
    "    value=False,\n",
    "    description='Clip Plane',\n",
    "    indent=True,\n",
    "    layout=checkbox_layout,\n",
    ")\n",
    "clip_checkbox.observe(toggle_clip_plane,names='value')\n",
    "\n",
    "cx_checkbox = Checkbox(\n",
    "    value=False,\n",
    "    description='x axis slice',\n",
    "    indent=True,\n",
    "    layout=checkbox_layout,\n",
    ")\n",
    "cx_checkbox.observe(toggle_x_slice,names='value')\n",
    "\n",
    "cy_checkbox = Checkbox(\n",
    "    value=False,\n",
    "    description='y axis slice',\n",
    "    indent=True,\n",
    "    layout=checkbox_layout,\n",
    ")\n",
    "cy_checkbox.observe(toggle_y_slice,names='value')\n",
    "\n",
    "cz_checkbox = Checkbox(\n",
    "    value=False,\n",
    "    description='z axis slice',\n",
    "    indent=True,\n",
    "    layout=checkbox_layout,\n",
    ")\n",
    "cz_checkbox.observe(toggle_z_slice,names='value')\n",
    "\n",
    "slider_layout = Layout(width='175px')\n",
    "cx_slider = IntSlider(\n",
    "    value=nx//2,\n",
    "    min=0,\n",
    "    max=nx-1,\n",
    "    description='x index',\n",
    "    continuous_update=False,\n",
    "    layout=slider_layout,\n",
    "    readout=False,\n",
    ")\n",
    "cx_slider.observe(update_x_slice,names='value')\n",
    "\n",
    "cy_slider = IntSlider(\n",
    "    value=ny//2,\n",
    "    min=0,\n",
    "    max=ny-1,\n",
    "    description='y index',\n",
    "    continuous_update=False,\n",
    "    layout=slider_layout,\n",
    "    readout=False,\n",
    ")\n",
    "cy_slider.observe(update_y_slice,names='value')\n",
    "\n",
    "cz_slider = IntSlider(\n",
    "    value=nz//2,\n",
    "    min=0,\n",
    "    max=nz-1,\n",
    "    description='z index',\n",
    "    continuous_update=False,\n",
    "    layout=slider_layout,\n",
    "    readout=False,\n",
    ")\n",
    "cz_slider.observe(update_z_slice,names='value')\n",
    "\n",
    "controls_layout = Layout(\n",
    "    display='flex',\n",
    "    flex_flow='column',\n",
    "    align_items='center',\n",
    "    width='200px'\n",
    ")\n",
    "\n",
    "controls = VBox(\n",
    "    [\n",
    "        Label(\"Volume Controls\"),\n",
    "        cmap_widget,\n",
    "        vol_checkbox,\n",
    "        clip_checkbox,\n",
    "        Label(\"Slice Controls\"),\n",
    "        cx_checkbox,\n",
    "        cy_checkbox,\n",
    "        cz_checkbox,\n",
    "        Label(\"Indices Controls\"),\n",
    "        cx_slider,\n",
    "        cy_slider,\n",
    "        cz_slider\n",
    "    ],\n",
    "    layout=controls_layout\n",
    ")\n",
    "\n",
    "visualization_layout = Layout(\n",
    "    display='flex',\n",
    "    flex_flow='row',\n",
    "    align_items='center',\n",
    "    width='600px'\n",
    ")\n",
    "\n",
    "display(\n",
    "    HBox([\n",
    "        viewer,\n",
    "        controls\n",
    "    ],\n",
    "        layout=visualization_layout\n",
    "        )\n",
    ")"
   ]
  }
 ],
 "metadata": {
  "kernelspec": {
   "display_name": "Python 3 (ipykernel)",
   "language": "python",
   "name": "python3"
  },
  "language_info": {
   "codemirror_mode": {
    "name": "ipython",
    "version": 3
   },
   "file_extension": ".py",
   "mimetype": "text/x-python",
   "name": "python",
   "nbconvert_exporter": "python",
   "pygments_lexer": "ipython3",
   "version": "3.11.4"
  },
  "widgets": {
   "application/vnd.jupyter.widget-state+json": {
    "state": {
     "00921c66f46c41dda2b3849ae9542bfb": {
      "model_module": "@jupyter-widgets/controls",
      "model_module_version": "2.0.0",
      "model_name": "CheckboxModel",
      "state": {
       "description": "x axis slice",
       "disabled": false,
       "layout": "IPY_MODEL_e2a83bcde81c4084b127a1bc27b398f7",
       "style": "IPY_MODEL_080c405162874e7dad07fc70e09414b6",
       "value": false
      }
     },
     "0241a47c21d147c99d0fd931a99ea868": {
      "model_module": "@jupyter-widgets/base",
      "model_module_version": "2.0.0",
      "model_name": "LayoutModel",
      "state": {}
     },
     "033cc91ba3da4b5eab04b6a3d179d38b": {
      "model_module": "@jupyter-widgets/controls",
      "model_module_version": "2.0.0",
      "model_name": "HBoxModel",
      "state": {
       "children": [
        "IPY_MODEL_d30ba0fe5a174cb585b8db7af38be31b",
        "IPY_MODEL_e8c5d35451e1403f80ea2f33e10aecb6"
       ],
       "layout": "IPY_MODEL_1cdfd4160db04f26aca2d6ff44418ee6"
      }
     },
     "03599e2a89714d1393947cefba14d78f": {
      "model_module": "@jupyter-widgets/controls",
      "model_module_version": "2.0.0",
      "model_name": "LabelStyleModel",
      "state": {
       "description_width": "",
       "font_family": null,
       "font_size": null,
       "font_style": null,
       "font_variant": null,
       "font_weight": null,
       "text_color": null,
       "text_decoration": null
      }
     },
     "03887bd8889843c2990276b8f7194a20": {
      "model_module": "@jupyter-widgets/controls",
      "model_module_version": "2.0.0",
      "model_name": "CheckboxModel",
      "state": {
       "description": "y axis slice",
       "disabled": false,
       "layout": "IPY_MODEL_e2a83bcde81c4084b127a1bc27b398f7",
       "style": "IPY_MODEL_13a5715f1e0a4489929a0dcbd38ea3dd",
       "value": false
      }
     },
     "046ae05cb3124b1e96c83a7703f3c48d": {
      "model_module": "@jupyter-widgets/controls",
      "model_module_version": "2.0.0",
      "model_name": "CheckboxStyleModel",
      "state": {
       "description_width": ""
      }
     },
     "06024ebfd7b84a9697b7ee902b426088": {
      "model_module": "@jupyter-widgets/controls",
      "model_module_version": "2.0.0",
      "model_name": "SliderStyleModel",
      "state": {
       "description_width": ""
      }
     },
     "061d78c95d464f4db56eea7f8f7d4ab6": {
      "model_module": "@jupyter-widgets/controls",
      "model_module_version": "2.0.0",
      "model_name": "HBoxModel",
      "state": {
       "children": [
        "IPY_MODEL_934318d58fe345a7bb83e6250ffad0d5",
        "IPY_MODEL_3e420ac34ebb42ef8c6ceec2a8ff08e5"
       ],
       "layout": "IPY_MODEL_cd2db9ccec604f07a741fa62439eff29"
      }
     },
     "06de55bb6341488b8c312ad6042cd9e3": {
      "model_module": "@jupyter-widgets/controls",
      "model_module_version": "2.0.0",
      "model_name": "CheckboxModel",
      "state": {
       "description": "x axis slice",
       "disabled": false,
       "layout": "IPY_MODEL_f48833b421f84951ae8daaca88b1114c",
       "style": "IPY_MODEL_ecf08802649b47f5b02621c82926918b",
       "value": true
      }
     },
     "0802510a6ff1499cb26ed74a109e2adc": {
      "model_module": "@jupyter-widgets/controls",
      "model_module_version": "2.0.0",
      "model_name": "LabelStyleModel",
      "state": {
       "description_width": "",
       "font_family": null,
       "font_size": null,
       "font_style": null,
       "font_variant": null,
       "font_weight": null,
       "text_color": null,
       "text_decoration": null
      }
     },
     "080c405162874e7dad07fc70e09414b6": {
      "model_module": "@jupyter-widgets/controls",
      "model_module_version": "2.0.0",
      "model_name": "CheckboxStyleModel",
      "state": {
       "description_width": ""
      }
     },
     "0a1e13af10a848019f6c7fde4a9e901f": {
      "model_module": "@jupyter-widgets/controls",
      "model_module_version": "2.0.0",
      "model_name": "CheckboxModel",
      "state": {
       "description": "z axis slice",
       "disabled": false,
       "layout": "IPY_MODEL_7da4bff80ecb438a8c872491a6c077cc",
       "style": "IPY_MODEL_8ec43e5144244307af2f9377d4a4d823",
       "value": false
      }
     },
     "0b701831e13249a1bcf7b884d8855bde": {
      "model_module": "@jupyter-widgets/controls",
      "model_module_version": "2.0.0",
      "model_name": "LabelModel",
      "state": {
       "layout": "IPY_MODEL_d542d97f17bb4b81a949837a889a55e1",
       "style": "IPY_MODEL_0802510a6ff1499cb26ed74a109e2adc",
       "value": "Indices Controls"
      }
     },
     "0dec0e1ce91a4d10adb3c83660ef82a5": {
      "model_module": "@jupyter-widgets/controls",
      "model_module_version": "2.0.0",
      "model_name": "LabelModel",
      "state": {
       "layout": "IPY_MODEL_13ea9c7a456a4216b50128d6f56c93c2",
       "style": "IPY_MODEL_6d5431f2c3414e34b7b0b9a903432938",
       "value": "Slice Controls"
      }
     },
     "0e3f02013a924360ae5c75e1895d4905": {
      "model_module": "@jupyter-widgets/controls",
      "model_module_version": "2.0.0",
      "model_name": "LabelModel",
      "state": {
       "layout": "IPY_MODEL_d992dc0ee607430798393555b467f8cc",
       "style": "IPY_MODEL_03599e2a89714d1393947cefba14d78f",
       "value": "Slice Controls"
      }
     },
     "0fb1020b158b4c8ab024e5c07c7de68b": {
      "model_module": "@jupyter-widgets/controls",
      "model_module_version": "2.0.0",
      "model_name": "LabelModel",
      "state": {
       "layout": "IPY_MODEL_ea0382a5d6f8487a8c3d6c553743e1a1",
       "style": "IPY_MODEL_6c58ea98a9504b55a70aadf02c03dfac",
       "value": "Indices Controls"
      }
     },
     "11156486541a47f8a8bba02a0c2ed6c9": {
      "model_module": "@jupyter-widgets/base",
      "model_module_version": "2.0.0",
      "model_name": "LayoutModel",
      "state": {
       "width": "175px"
      }
     },
     "1264f02da1d844f38d2649d6bdbce564": {
      "model_module": "@jupyter-widgets/controls",
      "model_module_version": "2.0.0",
      "model_name": "IntSliderModel",
      "state": {
       "behavior": "drag-tap",
       "continuous_update": false,
       "description": "y index",
       "layout": "IPY_MODEL_e5a68750c2b44a1dbabcebcaaff60c5e",
       "max": 95,
       "readout": false,
       "style": "IPY_MODEL_2fbd6965a72146c38c59ab74af17cf52",
       "value": 48
      }
     },
     "13a5715f1e0a4489929a0dcbd38ea3dd": {
      "model_module": "@jupyter-widgets/controls",
      "model_module_version": "2.0.0",
      "model_name": "CheckboxStyleModel",
      "state": {
       "description_width": ""
      }
     },
     "13ea9c7a456a4216b50128d6f56c93c2": {
      "model_module": "@jupyter-widgets/base",
      "model_module_version": "2.0.0",
      "model_name": "LayoutModel",
      "state": {}
     },
     "16491d04a6064cdeb739eb66643db078": {
      "model_module": "@jupyter-widgets/base",
      "model_module_version": "2.0.0",
      "model_name": "LayoutModel",
      "state": {
       "align_items": "center",
       "display": "flex",
       "flex_flow": "row",
       "width": "600px"
      }
     },
     "165dbdc7955e4e5091b629b34d9b043f": {
      "model_module": "@jupyter-widgets/controls",
      "model_module_version": "2.0.0",
      "model_name": "IntSliderModel",
      "state": {
       "behavior": "drag-tap",
       "continuous_update": false,
       "description": "x index",
       "layout": "IPY_MODEL_11156486541a47f8a8bba02a0c2ed6c9",
       "max": 105,
       "readout": false,
       "style": "IPY_MODEL_abd8e68ebabd494d9bfd7453eb61cfc0",
       "value": 53
      }
     },
     "1689a681b1574d68bf54d98e53e6320b": {
      "model_module": "@jupyter-widgets/base",
      "model_module_version": "2.0.0",
      "model_name": "LayoutModel",
      "state": {
       "align_items": "center",
       "display": "flex",
       "flex_flow": "row",
       "width": "600px"
      }
     },
     "170379e8a45b4a6db56ebd2d58f3d27a": {
      "model_module": "@jupyter-widgets/controls",
      "model_module_version": "2.0.0",
      "model_name": "CheckboxStyleModel",
      "state": {
       "description_width": ""
      }
     },
     "1769f5e4e88344e7bdb5c632175e6890": {
      "model_module": "@jupyter-widgets/controls",
      "model_module_version": "2.0.0",
      "model_name": "SliderStyleModel",
      "state": {
       "description_width": ""
      }
     },
     "1cdfd4160db04f26aca2d6ff44418ee6": {
      "model_module": "@jupyter-widgets/base",
      "model_module_version": "2.0.0",
      "model_name": "LayoutModel",
      "state": {
       "align_items": "center",
       "display": "flex",
       "flex_flow": "row",
       "width": "600px"
      }
     },
     "204d2b99e0f74ab0b1128710f1b15d53": {
      "model_module": "@jupyter-widgets/controls",
      "model_module_version": "2.0.0",
      "model_name": "IntSliderModel",
      "state": {
       "behavior": "drag-tap",
       "continuous_update": false,
       "description": "x index",
       "layout": "IPY_MODEL_c3553c4df0a2436c87aa99dff6a640fc",
       "max": 105,
       "readout": false,
       "style": "IPY_MODEL_e15b419145f54605a576e0123a7a6650",
       "value": 53
      }
     },
     "2176fb923e62441e8c6f49769e6afd4c": {
      "model_module": "@jupyter-widgets/controls",
      "model_module_version": "2.0.0",
      "model_name": "LabelModel",
      "state": {
       "layout": "IPY_MODEL_df7eeddd29344208aa4cb02e2200be37",
       "style": "IPY_MODEL_48ecca7edc8c4e36a51528210727b5c9",
       "value": "Slice Controls"
      }
     },
     "21d87c7ecbbf461991bebcb50e1d307a": {
      "model_module": "@jupyter-widgets/controls",
      "model_module_version": "2.0.0",
      "model_name": "LabelStyleModel",
      "state": {
       "description_width": "",
       "font_family": null,
       "font_size": null,
       "font_style": null,
       "font_variant": null,
       "font_weight": null,
       "text_color": null,
       "text_decoration": null
      }
     },
     "25137a61caac4fcda5c15b3159ae5ee8": {
      "model_module": "@jupyter-widgets/controls",
      "model_module_version": "2.0.0",
      "model_name": "CheckboxModel",
      "state": {
       "description": "y axis slice",
       "disabled": false,
       "layout": "IPY_MODEL_7d3b5b79a0d44941a8906887a6b3c58f",
       "style": "IPY_MODEL_f7bc57a5993b4debb164ac5405a4337f",
       "value": true
      }
     },
     "25dc55421ebb4d0e9d3616f673be4833": {
      "model_module": "@jupyter-widgets/controls",
      "model_module_version": "2.0.0",
      "model_name": "CheckboxStyleModel",
      "state": {
       "description_width": ""
      }
     },
     "267b8c225bf14c4085bb6e01eb02c3cf": {
      "model_module": "@jupyter-widgets/controls",
      "model_module_version": "2.0.0",
      "model_name": "HTMLStyleModel",
      "state": {
       "description_width": "",
       "font_size": null,
       "text_color": null
      }
     },
     "26c639e4fc074c29bcbe38f2ed218fda": {
      "model_module": "@jupyter-widgets/base",
      "model_module_version": "2.0.0",
      "model_name": "LayoutModel",
      "state": {}
     },
     "283a64d1f8d3433998adc555ca377bb7": {
      "model_module": "@jupyter-widgets/controls",
      "model_module_version": "2.0.0",
      "model_name": "LabelModel",
      "state": {
       "layout": "IPY_MODEL_26c639e4fc074c29bcbe38f2ed218fda",
       "style": "IPY_MODEL_59e697aa1e9b455c89258ace0aecdbad",
       "value": "Volume Controls"
      }
     },
     "2d1d068dba304afd9e74a46a72cf6dfb": {
      "model_module": "@jupyter-widgets/controls",
      "model_module_version": "2.0.0",
      "model_name": "HBoxModel",
      "state": {
       "children": [
        "IPY_MODEL_e28892662cb84a0aa2b97ff857f72a62",
        "IPY_MODEL_55a9cc2cabc84f27a454a66ef2ee5c66"
       ],
       "layout": "IPY_MODEL_1689a681b1574d68bf54d98e53e6320b"
      }
     },
     "2d4cfbe9f0524468aff9f4a5562aa8eb": {
      "model_module": "@jupyter-widgets/controls",
      "model_module_version": "2.0.0",
      "model_name": "CheckboxModel",
      "state": {
       "description": "y axis slice",
       "disabled": false,
       "layout": "IPY_MODEL_de57d517235e49da95ed69bb3cda2413",
       "style": "IPY_MODEL_ed1470caf9964b488f78a019670ade54",
       "value": true
      }
     },
     "2e13b16c504b476e89646bc4d9e4a8c5": {
      "model_module": "@jupyter-widgets/base",
      "model_module_version": "2.0.0",
      "model_name": "LayoutModel",
      "state": {}
     },
     "2fbd6965a72146c38c59ab74af17cf52": {
      "model_module": "@jupyter-widgets/controls",
      "model_module_version": "2.0.0",
      "model_name": "SliderStyleModel",
      "state": {
       "description_width": ""
      }
     },
     "32b6cfa2c2744c018a38097dc54623ab": {
      "model_module": "@jupyter-widgets/controls",
      "model_module_version": "2.0.0",
      "model_name": "HBoxModel",
      "state": {
       "children": [
        "IPY_MODEL_9682bd78e04f4e758e42107b81b2ad14",
        "IPY_MODEL_7db9394fc20143b2996b227fcf3e8e59"
       ],
       "layout": "IPY_MODEL_515fc53e17ff4f49bdbc4deb4aadf625"
      }
     },
     "338bfe12c0ac4006902fdac37a90df6d": {
      "model_module": "@jupyter-widgets/controls",
      "model_module_version": "2.0.0",
      "model_name": "CheckboxStyleModel",
      "state": {
       "description_width": ""
      }
     },
     "33e54d45a55c4fafb31361c14911e536": {
      "model_module": "@jupyter-widgets/controls",
      "model_module_version": "2.0.0",
      "model_name": "LabelModel",
      "state": {
       "layout": "IPY_MODEL_8ddea76d7aee4f5cad83bd103fc7125f",
       "style": "IPY_MODEL_9312bc419e4e4defb4f26d9a12d2f0a5",
       "value": "Volume Controls"
      }
     },
     "3562387a8dd348a395598fe554a0da5b": {
      "model_module": "@jupyter-widgets/controls",
      "model_module_version": "2.0.0",
      "model_name": "CheckboxStyleModel",
      "state": {
       "description_width": ""
      }
     },
     "357f56eaed7f455a81e5daf54e82123b": {
      "model_module": "@jupyter-widgets/base",
      "model_module_version": "2.0.0",
      "model_name": "LayoutModel",
      "state": {}
     },
     "38830699599844ffab3dc3c6285e2154": {
      "model_module": "@jupyter-widgets/base",
      "model_module_version": "2.0.0",
      "model_name": "LayoutModel",
      "state": {}
     },
     "39325773009f4b6680587a0dfd4b243a": {
      "model_module": "@jupyter-widgets/controls",
      "model_module_version": "2.0.0",
      "model_name": "LabelModel",
      "state": {
       "layout": "IPY_MODEL_ee2c20ee3dda4afd9465b02c752df461",
       "style": "IPY_MODEL_9e7dd19613724d0fadfbe9da3910e83e",
       "value": "Volume Controls"
      }
     },
     "3979695155b041648c9f94705de3507e": {
      "model_module": "@jupyter-widgets/base",
      "model_module_version": "2.0.0",
      "model_name": "LayoutModel",
      "state": {}
     },
     "3aaed8d38b7748cabc40c2604d347eb4": {
      "model_module": "@jupyter-widgets/base",
      "model_module_version": "2.0.0",
      "model_name": "LayoutModel",
      "state": {}
     },
     "3bace903769c4e059749cdc086d1ed0c": {
      "model_module": "@jupyter-widgets/base",
      "model_module_version": "2.0.0",
      "model_name": "LayoutModel",
      "state": {}
     },
     "3c30d10f6a5e40a79b4b16fef35d62c6": {
      "model_module": "@jupyter-widgets/controls",
      "model_module_version": "2.0.0",
      "model_name": "CheckboxStyleModel",
      "state": {
       "description_width": ""
      }
     },
     "3cc12a34473c4180ade32930f3297af7": {
      "model_module": "@jupyter-widgets/controls",
      "model_module_version": "2.0.0",
      "model_name": "CheckboxModel",
      "state": {
       "description": "Show Volume",
       "disabled": false,
       "layout": "IPY_MODEL_5cf1dba6b3e04ee6a656e7791303d87c",
       "style": "IPY_MODEL_500268cb83c5492fa46c50a3d01673a0",
       "value": true
      }
     },
     "3cc3bf7f1d444d83882d70b235b95ad0": {
      "model_module": "@jupyter-widgets/controls",
      "model_module_version": "2.0.0",
      "model_name": "CheckboxStyleModel",
      "state": {
       "description_width": ""
      }
     },
     "3cfb696077544d199debec36205fa6bb": {
      "model_module": "@jupyter-widgets/base",
      "model_module_version": "2.0.0",
      "model_name": "LayoutModel",
      "state": {}
     },
     "3dbeb04a7c2e43768e0b83087d260d30": {
      "model_module": "@jupyter-widgets/controls",
      "model_module_version": "2.0.0",
      "model_name": "CheckboxModel",
      "state": {
       "description": "x axis slice",
       "disabled": false,
       "layout": "IPY_MODEL_de57d517235e49da95ed69bb3cda2413",
       "style": "IPY_MODEL_ce212ee1d8b54266b1338475d328848a",
       "value": true
      }
     },
     "3e420ac34ebb42ef8c6ceec2a8ff08e5": {
      "model_module": "@jupyter-widgets/controls",
      "model_module_version": "2.0.0",
      "model_name": "VBoxModel",
      "state": {
       "children": [
        "IPY_MODEL_283a64d1f8d3433998adc555ca377bb7",
        "IPY_MODEL_5ee48d7ff17f467790510d488da3d6e5",
        "IPY_MODEL_88bc7844e1094f50a96a3310247e21b4",
        "IPY_MODEL_2176fb923e62441e8c6f49769e6afd4c",
        "IPY_MODEL_af3d80e188ce425dae14456c717f162c",
        "IPY_MODEL_629cb04c065a429bb71db43b32787109",
        "IPY_MODEL_0a1e13af10a848019f6c7fde4a9e901f",
        "IPY_MODEL_0fb1020b158b4c8ab024e5c07c7de68b",
        "IPY_MODEL_a4cd962b933044a7b4ab8c97ea316e74",
        "IPY_MODEL_5fab9102cba347d59c6bca9c6405d153",
        "IPY_MODEL_e688b20fd03440a8b8f95e4ed276c0c6"
       ],
       "layout": "IPY_MODEL_a8c5db40119b4f5497e05b75e09949c2"
      }
     },
     "42410d53bcb84b01af7b054b25f50c97": {
      "model_module": "@jupyter-widgets/controls",
      "model_module_version": "2.0.0",
      "model_name": "SliderStyleModel",
      "state": {
       "description_width": ""
      }
     },
     "4268561d355c4c1b89c8b87511e4388a": {
      "model_module": "@jupyter-widgets/base",
      "model_module_version": "2.0.0",
      "model_name": "LayoutModel",
      "state": {}
     },
     "4554e675bf1e472c9c6a35eb21df2434": {
      "model_module": "@jupyter-widgets/controls",
      "model_module_version": "2.0.0",
      "model_name": "LabelModel",
      "state": {
       "layout": "IPY_MODEL_3cfb696077544d199debec36205fa6bb",
       "style": "IPY_MODEL_a9c00da073884d7d96d87983b8ebfaec",
       "value": "Volume Controls"
      }
     },
     "48ecca7edc8c4e36a51528210727b5c9": {
      "model_module": "@jupyter-widgets/controls",
      "model_module_version": "2.0.0",
      "model_name": "LabelStyleModel",
      "state": {
       "description_width": "",
       "font_family": null,
       "font_size": null,
       "font_style": null,
       "font_variant": null,
       "font_weight": null,
       "text_color": null,
       "text_decoration": null
      }
     },
     "4a1e87f30621411fbc372223a3b8f601": {
      "model_module": "@jupyter-widgets/controls",
      "model_module_version": "2.0.0",
      "model_name": "SliderStyleModel",
      "state": {
       "description_width": ""
      }
     },
     "4a5ea0b8a93d4bdb9ce05933f4cf6855": {
      "model_module": "@jupyter-widgets/base",
      "model_module_version": "2.0.0",
      "model_name": "LayoutModel",
      "state": {
       "align_items": "center",
       "display": "flex",
       "flex_flow": "column",
       "width": "200px"
      }
     },
     "4affdef95fe54a6391781741af338a4a": {
      "model_module": "@jupyter-widgets/base",
      "model_module_version": "2.0.0",
      "model_name": "LayoutModel",
      "state": {}
     },
     "4b07f67ac3cf43d5ae7928a958e43f22": {
      "model_module": "@jupyter-widgets/controls",
      "model_module_version": "2.0.0",
      "model_name": "HTMLStyleModel",
      "state": {
       "description_width": "",
       "font_size": null,
       "text_color": null
      }
     },
     "4ca698b7a84b45e5ba8ca2405dd213ce": {
      "model_module": "@jupyter-widgets/controls",
      "model_module_version": "2.0.0",
      "model_name": "CheckboxModel",
      "state": {
       "description": "y axis slice",
       "disabled": false,
       "layout": "IPY_MODEL_5cf1dba6b3e04ee6a656e7791303d87c",
       "style": "IPY_MODEL_338bfe12c0ac4006902fdac37a90df6d",
       "value": true
      }
     },
     "4f2a746ba2de476ca835137010f9f7bb": {
      "model_module": "@jupyter-widgets/controls",
      "model_module_version": "2.0.0",
      "model_name": "IntSliderModel",
      "state": {
       "behavior": "drag-tap",
       "continuous_update": false,
       "description": "y index",
       "layout": "IPY_MODEL_c3553c4df0a2436c87aa99dff6a640fc",
       "max": 95,
       "readout": false,
       "style": "IPY_MODEL_d4c65ee762d24ddba860bfe474f7a557",
       "value": 48
      }
     },
     "4f4b0b31e7e348739de94ad16453a3f9": {
      "model_module": "@jupyter-widgets/controls",
      "model_module_version": "2.0.0",
      "model_name": "SliderStyleModel",
      "state": {
       "description_width": ""
      }
     },
     "500268cb83c5492fa46c50a3d01673a0": {
      "model_module": "@jupyter-widgets/controls",
      "model_module_version": "2.0.0",
      "model_name": "CheckboxStyleModel",
      "state": {
       "description_width": ""
      }
     },
     "515fc53e17ff4f49bdbc4deb4aadf625": {
      "model_module": "@jupyter-widgets/base",
      "model_module_version": "2.0.0",
      "model_name": "LayoutModel",
      "state": {
       "align_items": "center",
       "display": "flex",
       "flex_flow": "row",
       "width": "600px"
      }
     },
     "51948f3712d645898af33ba613efa5c0": {
      "model_module": "@jupyter-widgets/base",
      "model_module_version": "2.0.0",
      "model_name": "LayoutModel",
      "state": {
       "width": "175px"
      }
     },
     "5283f9c7b59e4b348000c2b63f314c5d": {
      "model_module": "@jupyter-widgets/controls",
      "model_module_version": "2.0.0",
      "model_name": "LabelStyleModel",
      "state": {
       "description_width": "",
       "font_family": null,
       "font_size": null,
       "font_style": null,
       "font_variant": null,
       "font_weight": null,
       "text_color": null,
       "text_decoration": null
      }
     },
     "52fbc467a7a34322985f532f3302339e": {
      "model_module": "@jupyter-widgets/base",
      "model_module_version": "2.0.0",
      "model_name": "LayoutModel",
      "state": {}
     },
     "53ee9f5359de480baa18c977984b5d06": {
      "model_module": "@jupyter-widgets/controls",
      "model_module_version": "2.0.0",
      "model_name": "CheckboxStyleModel",
      "state": {
       "description_width": ""
      }
     },
     "557a6226c96f4d7cbc886dfa48161cde": {
      "model_module": "@jupyter-widgets/controls",
      "model_module_version": "2.0.0",
      "model_name": "IntSliderModel",
      "state": {
       "behavior": "drag-tap",
       "continuous_update": false,
       "description": "z index",
       "layout": "IPY_MODEL_ff14adc32a0d43a082aacaa8c4b27f93",
       "max": 95,
       "readout": false,
       "style": "IPY_MODEL_ec1110c66b7d4d95997150575ff8546d",
       "value": 48
      }
     },
     "55a9cc2cabc84f27a454a66ef2ee5c66": {
      "model_module": "@jupyter-widgets/controls",
      "model_module_version": "2.0.0",
      "model_name": "VBoxModel",
      "state": {
       "children": [
        "IPY_MODEL_4554e675bf1e472c9c6a35eb21df2434",
        "IPY_MODEL_f2532e3abf7443b992d1af9a4b388f15",
        "IPY_MODEL_ed6fa47fe6024921ac1483252de615cf",
        "IPY_MODEL_9f7b4009bb1b404488321bb1234cb0f4",
        "IPY_MODEL_be486aeab624499182946e8929b9d2d4",
        "IPY_MODEL_b1c05d68a52847729f0c27a176005660",
        "IPY_MODEL_c74cf3c8fd0e4b1e8b3e016196260c2e",
        "IPY_MODEL_7025771e2e514187a8281172761faa48",
        "IPY_MODEL_165dbdc7955e4e5091b629b34d9b043f",
        "IPY_MODEL_b124075728cd47e8a38c7c2984536cb5",
        "IPY_MODEL_d3a57fd627d742d9aa5b89052e3fe92a"
       ],
       "layout": "IPY_MODEL_cf47cced5b3c4035893c35dbba41ac9c"
      }
     },
     "5641dd7b7f7045419e88fb0568363590": {
      "model_module": "@jupyter-widgets/controls",
      "model_module_version": "2.0.0",
      "model_name": "VBoxModel",
      "state": {
       "children": [
        "IPY_MODEL_ebb4dfcef84145659b3e0db82950991e",
        "IPY_MODEL_0dec0e1ce91a4d10adb3c83660ef82a5",
        "IPY_MODEL_3dbeb04a7c2e43768e0b83087d260d30",
        "IPY_MODEL_2d4cfbe9f0524468aff9f4a5562aa8eb",
        "IPY_MODEL_d3d86950004a434a8352ffba82b275e3",
        "IPY_MODEL_68a96ce095ab4934b0eaa9de056e526c",
        "IPY_MODEL_b92283eff05544d4a1998aff473fac83",
        "IPY_MODEL_a41885e6afca4e4294d31db4fa4ec08d",
        "IPY_MODEL_557a6226c96f4d7cbc886dfa48161cde"
       ],
       "layout": "IPY_MODEL_5fef30b2078241249763d59a5c23a75a"
      }
     },
     "5648bc3875c54ceab9422395b9ad49ee": {
      "model_module": "@jupyter-widgets/controls",
      "model_module_version": "2.0.0",
      "model_name": "LabelModel",
      "state": {
       "layout": "IPY_MODEL_38830699599844ffab3dc3c6285e2154",
       "style": "IPY_MODEL_5283f9c7b59e4b348000c2b63f314c5d",
       "value": "Indices Controls"
      }
     },
     "57e4a27a501247079385f6010459ee4f": {
      "model_module": "@jupyter-widgets/controls",
      "model_module_version": "2.0.0",
      "model_name": "IntSliderModel",
      "state": {
       "behavior": "drag-tap",
       "continuous_update": false,
       "description": "x index",
       "layout": "IPY_MODEL_e5a68750c2b44a1dbabcebcaaff60c5e",
       "max": 105,
       "readout": false,
       "style": "IPY_MODEL_89f68305823340efa9b29c392ec94d77",
       "value": 53
      }
     },
     "587450e61d3e4476bf6f34c6979692c1": {
      "model_module": "@jupyter-widgets/controls",
      "model_module_version": "2.0.0",
      "model_name": "CheckboxModel",
      "state": {
       "description": "x axis slice",
       "disabled": false,
       "layout": "IPY_MODEL_5cf1dba6b3e04ee6a656e7791303d87c",
       "style": "IPY_MODEL_89249dcf1f3e45a1ba4e76be5e315997",
       "value": true
      }
     },
     "588b96c63abe42edbed75724efa22f23": {
      "model_module": "@jupyter-widgets/controls",
      "model_module_version": "2.0.0",
      "model_name": "HBoxModel",
      "state": {
       "children": [
        "IPY_MODEL_d196db7c519149f1ad9b0ef80c143c4e",
        "IPY_MODEL_c792dc5740664173a1d4512c184d7a14"
       ],
       "layout": "IPY_MODEL_f26c4fc268834dc2869d42a9950c7299"
      }
     },
     "5901290839294504a7fd0a339078285c": {
      "model_module": "@jupyter-widgets/base",
      "model_module_version": "2.0.0",
      "model_name": "LayoutModel",
      "state": {
       "align_items": "center",
       "display": "flex",
       "flex_flow": "column",
       "width": "200px"
      }
     },
     "59e697aa1e9b455c89258ace0aecdbad": {
      "model_module": "@jupyter-widgets/controls",
      "model_module_version": "2.0.0",
      "model_name": "LabelStyleModel",
      "state": {
       "description_width": "",
       "font_family": null,
       "font_size": null,
       "font_style": null,
       "font_variant": null,
       "font_weight": null,
       "text_color": null,
       "text_decoration": null
      }
     },
     "5c27fc765504413b890d59588257447c": {
      "model_module": "@jupyter-widgets/controls",
      "model_module_version": "2.0.0",
      "model_name": "IntSliderModel",
      "state": {
       "behavior": "drag-tap",
       "continuous_update": false,
       "description": "y index",
       "layout": "IPY_MODEL_51948f3712d645898af33ba613efa5c0",
       "max": 95,
       "readout": false,
       "style": "IPY_MODEL_a14a5859ab364c42b38c024b8566dd35",
       "value": 48
      }
     },
     "5cf1dba6b3e04ee6a656e7791303d87c": {
      "model_module": "@jupyter-widgets/base",
      "model_module_version": "2.0.0",
      "model_name": "LayoutModel",
      "state": {
       "width": "175px"
      }
     },
     "5d80f2ae417043bc85a28965ec22dab9": {
      "model_module": "@jupyter-widgets/controls",
      "model_module_version": "2.0.0",
      "model_name": "CheckboxStyleModel",
      "state": {
       "description_width": ""
      }
     },
     "5dc20420a34744b9a94fc1ce26e1765b": {
      "model_module": "@jupyter-widgets/controls",
      "model_module_version": "2.0.0",
      "model_name": "LabelStyleModel",
      "state": {
       "description_width": "",
       "font_family": null,
       "font_size": null,
       "font_style": null,
       "font_variant": null,
       "font_weight": null,
       "text_color": null,
       "text_decoration": null
      }
     },
     "5e98695eb44f45e683fc454858af5db5": {
      "model_module": "@jupyter-widgets/controls",
      "model_module_version": "2.0.0",
      "model_name": "LabelModel",
      "state": {
       "layout": "IPY_MODEL_fb5ae146eb5146fe981310124a4ade2b",
       "style": "IPY_MODEL_9b0b7a97933e4c45a7597a020539994e",
       "value": "Slice Controls"
      }
     },
     "5ee48d7ff17f467790510d488da3d6e5": {
      "model_module": "@jupyter-widgets/controls",
      "model_module_version": "2.0.0",
      "model_name": "CheckboxModel",
      "state": {
       "description": "Show Vol",
       "disabled": false,
       "layout": "IPY_MODEL_7da4bff80ecb438a8c872491a6c077cc",
       "style": "IPY_MODEL_ee515be126f2483680fd57cbe0eb36cd",
       "value": true
      }
     },
     "5f7b92ae2eac47529f6d1efa11c75ad9": {
      "model_module": "@jupyter-widgets/controls",
      "model_module_version": "2.0.0",
      "model_name": "CheckboxStyleModel",
      "state": {
       "description_width": ""
      }
     },
     "5fab9102cba347d59c6bca9c6405d153": {
      "model_module": "@jupyter-widgets/controls",
      "model_module_version": "2.0.0",
      "model_name": "IntSliderModel",
      "state": {
       "behavior": "drag-tap",
       "continuous_update": false,
       "description": "y index",
       "layout": "IPY_MODEL_de9f4edb80e04120badf80e252c81b31",
       "max": 95,
       "readout": false,
       "style": "IPY_MODEL_738db18cc0074cf58147f257b9701e64",
       "value": 48
      }
     },
     "5fef30b2078241249763d59a5c23a75a": {
      "model_module": "@jupyter-widgets/base",
      "model_module_version": "2.0.0",
      "model_name": "LayoutModel",
      "state": {
       "align_items": "center",
       "display": "flex",
       "flex_flow": "column",
       "width": "200px"
      }
     },
     "618b647761ef4e80bda3fa345f5a3e96": {
      "model_module": "@jupyter-widgets/controls",
      "model_module_version": "2.0.0",
      "model_name": "SliderStyleModel",
      "state": {
       "description_width": ""
      }
     },
     "629cb04c065a429bb71db43b32787109": {
      "model_module": "@jupyter-widgets/controls",
      "model_module_version": "2.0.0",
      "model_name": "CheckboxModel",
      "state": {
       "description": "y axis slice",
       "disabled": false,
       "layout": "IPY_MODEL_7da4bff80ecb438a8c872491a6c077cc",
       "style": "IPY_MODEL_ca3520efba1545f281876ffb6e693d46",
       "value": false
      }
     },
     "68a96ce095ab4934b0eaa9de056e526c": {
      "model_module": "@jupyter-widgets/controls",
      "model_module_version": "2.0.0",
      "model_name": "LabelModel",
      "state": {
       "layout": "IPY_MODEL_869f55b646d0468bbe218315a4ac53e1",
       "style": "IPY_MODEL_21d87c7ecbbf461991bebcb50e1d307a",
       "value": "Indices Controls"
      }
     },
     "694b428330484629b5cf6dd5a2781856": {
      "model_module": "@jupyter-widgets/base",
      "model_module_version": "2.0.0",
      "model_name": "LayoutModel",
      "state": {
       "width": "175px"
      }
     },
     "69617105d2a9406c876ca9261fb94373": {
      "model_module": "@jupyter-widgets/controls",
      "model_module_version": "2.0.0",
      "model_name": "LabelStyleModel",
      "state": {
       "description_width": "",
       "font_family": null,
       "font_size": null,
       "font_style": null,
       "font_variant": null,
       "font_weight": null,
       "text_color": null,
       "text_decoration": null
      }
     },
     "6a141c1105b440d4a717a98ec9bd8466": {
      "model_module": "@jupyter-widgets/controls",
      "model_module_version": "2.0.0",
      "model_name": "SliderStyleModel",
      "state": {
       "description_width": ""
      }
     },
     "6b7651384b2f408d969e988b3295c076": {
      "model_module": "@jupyter-widgets/controls",
      "model_module_version": "2.0.0",
      "model_name": "LabelModel",
      "state": {
       "layout": "IPY_MODEL_0241a47c21d147c99d0fd931a99ea868",
       "style": "IPY_MODEL_cdaecdec0c5d4026869d9f564fe96360",
       "value": "Volume Controls"
      }
     },
     "6c58ea98a9504b55a70aadf02c03dfac": {
      "model_module": "@jupyter-widgets/controls",
      "model_module_version": "2.0.0",
      "model_name": "LabelStyleModel",
      "state": {
       "description_width": "",
       "font_family": null,
       "font_size": null,
       "font_style": null,
       "font_variant": null,
       "font_weight": null,
       "text_color": null,
       "text_decoration": null
      }
     },
     "6d5431f2c3414e34b7b0b9a903432938": {
      "model_module": "@jupyter-widgets/controls",
      "model_module_version": "2.0.0",
      "model_name": "LabelStyleModel",
      "state": {
       "description_width": "",
       "font_family": null,
       "font_size": null,
       "font_style": null,
       "font_variant": null,
       "font_weight": null,
       "text_color": null,
       "text_decoration": null
      }
     },
     "6faf398bd69d40fcae759e2644806e08": {
      "model_module": "@jupyter-widgets/controls",
      "model_module_version": "2.0.0",
      "model_name": "SliderStyleModel",
      "state": {
       "description_width": ""
      }
     },
     "6fc6efde40b149a5b8ec3f691b71c6e7": {
      "model_module": "@jupyter-widgets/controls",
      "model_module_version": "2.0.0",
      "model_name": "CheckboxModel",
      "state": {
       "description": "z axis slice",
       "disabled": false,
       "layout": "IPY_MODEL_7d3b5b79a0d44941a8906887a6b3c58f",
       "style": "IPY_MODEL_25dc55421ebb4d0e9d3616f673be4833",
       "value": true
      }
     },
     "7025771e2e514187a8281172761faa48": {
      "model_module": "@jupyter-widgets/controls",
      "model_module_version": "2.0.0",
      "model_name": "LabelModel",
      "state": {
       "layout": "IPY_MODEL_8ffbf4668c02464c84a0398c943bc5bb",
       "style": "IPY_MODEL_5dc20420a34744b9a94fc1ce26e1765b",
       "value": "Indices Controls"
      }
     },
     "738db18cc0074cf58147f257b9701e64": {
      "model_module": "@jupyter-widgets/controls",
      "model_module_version": "2.0.0",
      "model_name": "SliderStyleModel",
      "state": {
       "description_width": ""
      }
     },
     "739bdd65ca2840d4bb5300309b744969": {
      "model_module": "@jupyter-widgets/controls",
      "model_module_version": "2.0.0",
      "model_name": "CheckboxModel",
      "state": {
       "description": "Clip Plane",
       "disabled": false,
       "layout": "IPY_MODEL_e2a83bcde81c4084b127a1bc27b398f7",
       "style": "IPY_MODEL_a900ef295ea64037b061f856fd79ef68",
       "value": false
      }
     },
     "747d53eb06444ca895d68f59a5a07eba": {
      "model_module": "@jupyter-widgets/controls",
      "model_module_version": "2.0.0",
      "model_name": "LabelModel",
      "state": {
       "layout": "IPY_MODEL_f8889f2199de4e638f5ec6f3e79ef397",
       "style": "IPY_MODEL_f73bd835154f4083ade7b0a5886200b7",
       "value": "Slice Controls"
      }
     },
     "78862b2220534958a326fe7fbad179e5": {
      "model_module": "@jupyter-widgets/controls",
      "model_module_version": "2.0.0",
      "model_name": "SliderStyleModel",
      "state": {
       "description_width": ""
      }
     },
     "78b3f304b5ae446188d61d27343ce250": {
      "model_module": "@jupyter-widgets/controls",
      "model_module_version": "2.0.0",
      "model_name": "HTMLStyleModel",
      "state": {
       "description_width": "",
       "font_size": null,
       "text_color": null
      }
     },
     "7cac9babc65743388a3be653faf712ae": {
      "model_module": "@jupyter-widgets/controls",
      "model_module_version": "2.0.0",
      "model_name": "HBoxModel",
      "state": {
       "children": [
        "IPY_MODEL_ef3c46ed2eb04ff998bd8b5b1a2b1f19",
        "IPY_MODEL_d2fad5a082ec4387a7b1649e644e9d0a"
       ],
       "layout": "IPY_MODEL_d5ed3f5a55f14c5ca6940345327fd50d"
      }
     },
     "7d3b5b79a0d44941a8906887a6b3c58f": {
      "model_module": "@jupyter-widgets/base",
      "model_module_version": "2.0.0",
      "model_name": "LayoutModel",
      "state": {
       "width": "175px"
      }
     },
     "7da4bff80ecb438a8c872491a6c077cc": {
      "model_module": "@jupyter-widgets/base",
      "model_module_version": "2.0.0",
      "model_name": "LayoutModel",
      "state": {
       "width": "175px"
      }
     },
     "7db9394fc20143b2996b227fcf3e8e59": {
      "model_module": "@jupyter-widgets/controls",
      "model_module_version": "2.0.0",
      "model_name": "VBoxModel",
      "state": {
       "children": [
        "IPY_MODEL_6b7651384b2f408d969e988b3295c076",
        "IPY_MODEL_3cc12a34473c4180ade32930f3297af7",
        "IPY_MODEL_c4d4444a744e4a9387d9491880c1f36d",
        "IPY_MODEL_e5399f5c73f34b188410d18278dce5fb",
        "IPY_MODEL_587450e61d3e4476bf6f34c6979692c1",
        "IPY_MODEL_4ca698b7a84b45e5ba8ca2405dd213ce",
        "IPY_MODEL_cada55cf1c344b42a6f44f1fd220ca95",
        "IPY_MODEL_0b701831e13249a1bcf7b884d8855bde",
        "IPY_MODEL_e39f735b77c445cea3dc8064ad95e0c3",
        "IPY_MODEL_be47c4173fe546e882846e247c088732",
        "IPY_MODEL_ce3050d5176a4ee8992a24b598e4558c"
       ],
       "layout": "IPY_MODEL_5901290839294504a7fd0a339078285c"
      }
     },
     "7e173eebb0c445edb352c6118494c188": {
      "model_module": "@jupyter-widgets/controls",
      "model_module_version": "2.0.0",
      "model_name": "CheckboxStyleModel",
      "state": {
       "description_width": ""
      }
     },
     "8065f20789bc47a9afe65062a52a009b": {
      "model_module": "@jupyter-widgets/base",
      "model_module_version": "2.0.0",
      "model_name": "LayoutModel",
      "state": {}
     },
     "80a9d6ea6b3848a3aa9b13f1426cca20": {
      "model_module": "@jupyter-widgets/controls",
      "model_module_version": "2.0.0",
      "model_name": "LabelStyleModel",
      "state": {
       "description_width": "",
       "font_family": null,
       "font_size": null,
       "font_style": null,
       "font_variant": null,
       "font_weight": null,
       "text_color": null,
       "text_decoration": null
      }
     },
     "834e65a19c794d9e878afc1865b9e874": {
      "model_module": "@jupyter-widgets/controls",
      "model_module_version": "2.0.0",
      "model_name": "HTMLStyleModel",
      "state": {
       "description_width": "",
       "font_size": null,
       "text_color": null
      }
     },
     "84a5c30ac26243218e9b0e4a5bac9b8a": {
      "model_module": "@jupyter-widgets/base",
      "model_module_version": "2.0.0",
      "model_name": "LayoutModel",
      "state": {}
     },
     "84f36744492b43819be01f3348ce4cac": {
      "model_module": "@jupyter-widgets/controls",
      "model_module_version": "2.0.0",
      "model_name": "IntSliderModel",
      "state": {
       "behavior": "drag-tap",
       "continuous_update": false,
       "description": "z index",
       "layout": "IPY_MODEL_c3553c4df0a2436c87aa99dff6a640fc",
       "max": 95,
       "readout": false,
       "style": "IPY_MODEL_4a1e87f30621411fbc372223a3b8f601",
       "value": 48
      }
     },
     "869f55b646d0468bbe218315a4ac53e1": {
      "model_module": "@jupyter-widgets/base",
      "model_module_version": "2.0.0",
      "model_name": "LayoutModel",
      "state": {}
     },
     "86e352a9a5124ab4b04ee9f984b454c3": {
      "model_module": "@jupyter-widgets/controls",
      "model_module_version": "2.0.0",
      "model_name": "HTMLStyleModel",
      "state": {
       "description_width": "",
       "font_size": null,
       "text_color": null
      }
     },
     "88bc7844e1094f50a96a3310247e21b4": {
      "model_module": "@jupyter-widgets/controls",
      "model_module_version": "2.0.0",
      "model_name": "CheckboxModel",
      "state": {
       "description": "Clip Plane",
       "disabled": false,
       "layout": "IPY_MODEL_7da4bff80ecb438a8c872491a6c077cc",
       "style": "IPY_MODEL_046ae05cb3124b1e96c83a7703f3c48d",
       "value": false
      }
     },
     "89249dcf1f3e45a1ba4e76be5e315997": {
      "model_module": "@jupyter-widgets/controls",
      "model_module_version": "2.0.0",
      "model_name": "CheckboxStyleModel",
      "state": {
       "description_width": ""
      }
     },
     "89f68305823340efa9b29c392ec94d77": {
      "model_module": "@jupyter-widgets/controls",
      "model_module_version": "2.0.0",
      "model_name": "SliderStyleModel",
      "state": {
       "description_width": ""
      }
     },
     "8a36017bd2874d2c9c6c173562bca72d": {
      "model_module": "@jupyter-widgets/controls",
      "model_module_version": "2.0.0",
      "model_name": "CheckboxModel",
      "state": {
       "description": "Show Volume",
       "disabled": false,
       "layout": "IPY_MODEL_f48833b421f84951ae8daaca88b1114c",
       "style": "IPY_MODEL_e41c4ce5e1834fbab260ef4a1b1ef5ed",
       "value": false
      }
     },
     "8a917f23962c4968a4968f7445ac8650": {
      "model_module": "@jupyter-widgets/controls",
      "model_module_version": "2.0.0",
      "model_name": "CheckboxModel",
      "state": {
       "description": "y axis slice",
       "disabled": false,
       "layout": "IPY_MODEL_f48833b421f84951ae8daaca88b1114c",
       "style": "IPY_MODEL_3562387a8dd348a395598fe554a0da5b",
       "value": true
      }
     },
     "8ab3b13cbbb44f24afce291007db1290": {
      "model_module": "@jupyter-widgets/controls",
      "model_module_version": "2.0.0",
      "model_name": "CheckboxModel",
      "state": {
       "description": "Clip Plane",
       "disabled": false,
       "indent": false,
       "layout": "IPY_MODEL_7d3b5b79a0d44941a8906887a6b3c58f",
       "style": "IPY_MODEL_f89c9eaf8629494e8a1cac859fd2190c",
       "value": false
      }
     },
     "8ca189c659aa41e78df45d3302af1f8c": {
      "model_module": "@jupyter-widgets/controls",
      "model_module_version": "2.0.0",
      "model_name": "HTMLModel",
      "state": {
       "layout": "IPY_MODEL_8065f20789bc47a9afe65062a52a009b",
       "style": "IPY_MODEL_834e65a19c794d9e878afc1865b9e874",
       "value": "<iframe src='http://localhost:40907/index.html?ui=P_0x7ff993308290_0&reconnect=auto' style='width: 400px; height: 400px;'></iframe>"
      }
     },
     "8ddea76d7aee4f5cad83bd103fc7125f": {
      "model_module": "@jupyter-widgets/base",
      "model_module_version": "2.0.0",
      "model_name": "LayoutModel",
      "state": {}
     },
     "8ec43e5144244307af2f9377d4a4d823": {
      "model_module": "@jupyter-widgets/controls",
      "model_module_version": "2.0.0",
      "model_name": "CheckboxStyleModel",
      "state": {
       "description_width": ""
      }
     },
     "8ffbf4668c02464c84a0398c943bc5bb": {
      "model_module": "@jupyter-widgets/base",
      "model_module_version": "2.0.0",
      "model_name": "LayoutModel",
      "state": {}
     },
     "9002b30ad2ab47d39f6050c695d1dcc6": {
      "model_module": "@jupyter-widgets/controls",
      "model_module_version": "2.0.0",
      "model_name": "HBoxModel",
      "state": {
       "children": [
        "IPY_MODEL_8ca189c659aa41e78df45d3302af1f8c",
        "IPY_MODEL_5641dd7b7f7045419e88fb0568363590"
       ],
       "layout": "IPY_MODEL_16491d04a6064cdeb739eb66643db078"
      }
     },
     "9173577487f94210abb90f6e25a0becd": {
      "model_module": "@jupyter-widgets/controls",
      "model_module_version": "2.0.0",
      "model_name": "CheckboxStyleModel",
      "state": {
       "description_width": ""
      }
     },
     "9312bc419e4e4defb4f26d9a12d2f0a5": {
      "model_module": "@jupyter-widgets/controls",
      "model_module_version": "2.0.0",
      "model_name": "LabelStyleModel",
      "state": {
       "description_width": "",
       "font_family": null,
       "font_size": null,
       "font_style": null,
       "font_variant": null,
       "font_weight": null,
       "text_color": null,
       "text_decoration": null
      }
     },
     "934318d58fe345a7bb83e6250ffad0d5": {
      "model_module": "@jupyter-widgets/controls",
      "model_module_version": "2.0.0",
      "model_name": "HTMLModel",
      "state": {
       "layout": "IPY_MODEL_84a5c30ac26243218e9b0e4a5bac9b8a",
       "style": "IPY_MODEL_267b8c225bf14c4085bb6e01eb02c3cf",
       "value": "<iframe src='http://localhost:40907/index.html?ui=P_0x7ff989b30e50_5&reconnect=auto' style='width: 400px; height: 400px;'></iframe>"
      }
     },
     "95055d5160df462ca3f3a641db27fc5c": {
      "model_module": "@jupyter-widgets/controls",
      "model_module_version": "2.0.0",
      "model_name": "SliderStyleModel",
      "state": {
       "description_width": ""
      }
     },
     "9682bd78e04f4e758e42107b81b2ad14": {
      "model_module": "@jupyter-widgets/controls",
      "model_module_version": "2.0.0",
      "model_name": "HTMLModel",
      "state": {
       "layout": "IPY_MODEL_52fbc467a7a34322985f532f3302339e",
       "style": "IPY_MODEL_86e352a9a5124ab4b04ee9f984b454c3",
       "value": "<iframe src='http://localhost:40907/index.html?ui=P_0x7ff9849c6ed0_2&reconnect=auto' style='width: 400px; height: 400px;'></iframe>"
      }
     },
     "9b0b7a97933e4c45a7597a020539994e": {
      "model_module": "@jupyter-widgets/controls",
      "model_module_version": "2.0.0",
      "model_name": "LabelStyleModel",
      "state": {
       "description_width": "",
       "font_family": null,
       "font_size": null,
       "font_style": null,
       "font_variant": null,
       "font_weight": null,
       "text_color": null,
       "text_decoration": null
      }
     },
     "9e7dd19613724d0fadfbe9da3910e83e": {
      "model_module": "@jupyter-widgets/controls",
      "model_module_version": "2.0.0",
      "model_name": "LabelStyleModel",
      "state": {
       "description_width": "",
       "font_family": null,
       "font_size": null,
       "font_style": null,
       "font_variant": null,
       "font_weight": null,
       "text_color": null,
       "text_decoration": null
      }
     },
     "9f7b4009bb1b404488321bb1234cb0f4": {
      "model_module": "@jupyter-widgets/controls",
      "model_module_version": "2.0.0",
      "model_name": "LabelModel",
      "state": {
       "layout": "IPY_MODEL_2e13b16c504b476e89646bc4d9e4a8c5",
       "style": "IPY_MODEL_c1e1cdca04ef4a969e37fa5a65ac5e42",
       "value": "Slice Controls"
      }
     },
     "a14a5859ab364c42b38c024b8566dd35": {
      "model_module": "@jupyter-widgets/controls",
      "model_module_version": "2.0.0",
      "model_name": "SliderStyleModel",
      "state": {
       "description_width": ""
      }
     },
     "a359bb6a24db44b0a5164d781cd3c4bd": {
      "model_module": "@jupyter-widgets/controls",
      "model_module_version": "2.0.0",
      "model_name": "SliderStyleModel",
      "state": {
       "description_width": ""
      }
     },
     "a41885e6afca4e4294d31db4fa4ec08d": {
      "model_module": "@jupyter-widgets/controls",
      "model_module_version": "2.0.0",
      "model_name": "IntSliderModel",
      "state": {
       "behavior": "drag-tap",
       "continuous_update": false,
       "description": "y index",
       "layout": "IPY_MODEL_ff14adc32a0d43a082aacaa8c4b27f93",
       "max": 95,
       "readout": false,
       "style": "IPY_MODEL_1769f5e4e88344e7bdb5c632175e6890",
       "value": 48
      }
     },
     "a4bc04c643804104abca80a8608d0853": {
      "model_module": "@jupyter-widgets/base",
      "model_module_version": "2.0.0",
      "model_name": "LayoutModel",
      "state": {}
     },
     "a4cd962b933044a7b4ab8c97ea316e74": {
      "model_module": "@jupyter-widgets/controls",
      "model_module_version": "2.0.0",
      "model_name": "IntSliderModel",
      "state": {
       "behavior": "drag-tap",
       "continuous_update": false,
       "description": "x index",
       "layout": "IPY_MODEL_de9f4edb80e04120badf80e252c81b31",
       "max": 105,
       "readout": false,
       "style": "IPY_MODEL_95055d5160df462ca3f3a641db27fc5c",
       "value": 53
      }
     },
     "a7ed0e13016d43eeb91bec1be699b49c": {
      "model_module": "@jupyter-widgets/controls",
      "model_module_version": "2.0.0",
      "model_name": "SliderStyleModel",
      "state": {
       "description_width": ""
      }
     },
     "a81421d5b86046c9ae8112e4c1826b0f": {
      "model_module": "@jupyter-widgets/controls",
      "model_module_version": "2.0.0",
      "model_name": "LabelStyleModel",
      "state": {
       "description_width": "",
       "font_family": null,
       "font_size": null,
       "font_style": null,
       "font_variant": null,
       "font_weight": null,
       "text_color": null,
       "text_decoration": null
      }
     },
     "a8c5db40119b4f5497e05b75e09949c2": {
      "model_module": "@jupyter-widgets/base",
      "model_module_version": "2.0.0",
      "model_name": "LayoutModel",
      "state": {
       "align_items": "center",
       "display": "flex",
       "flex_flow": "column",
       "width": "200px"
      }
     },
     "a900ef295ea64037b061f856fd79ef68": {
      "model_module": "@jupyter-widgets/controls",
      "model_module_version": "2.0.0",
      "model_name": "CheckboxStyleModel",
      "state": {
       "description_width": ""
      }
     },
     "a9c00da073884d7d96d87983b8ebfaec": {
      "model_module": "@jupyter-widgets/controls",
      "model_module_version": "2.0.0",
      "model_name": "LabelStyleModel",
      "state": {
       "description_width": "",
       "font_family": null,
       "font_size": null,
       "font_style": null,
       "font_variant": null,
       "font_weight": null,
       "text_color": null,
       "text_decoration": null
      }
     },
     "aba4dafde4bb414b846b70179a2b28f0": {
      "model_module": "@jupyter-widgets/controls",
      "model_module_version": "2.0.0",
      "model_name": "CheckboxStyleModel",
      "state": {
       "description_width": ""
      }
     },
     "abd8e68ebabd494d9bfd7453eb61cfc0": {
      "model_module": "@jupyter-widgets/controls",
      "model_module_version": "2.0.0",
      "model_name": "SliderStyleModel",
      "state": {
       "description_width": ""
      }
     },
     "acc64dfeaac940e5a73571d7c1ed9efb": {
      "model_module": "@jupyter-widgets/controls",
      "model_module_version": "2.0.0",
      "model_name": "LabelModel",
      "state": {
       "layout": "IPY_MODEL_3979695155b041648c9f94705de3507e",
       "style": "IPY_MODEL_adea0e78e3f5480c96b29c99a22217a3",
       "value": "Indices Controls"
      }
     },
     "ace2cbd7e9e4427fb5a5aab01006e140": {
      "model_module": "@jupyter-widgets/controls",
      "model_module_version": "2.0.0",
      "model_name": "CheckboxModel",
      "state": {
       "description": "z axis slice",
       "disabled": false,
       "layout": "IPY_MODEL_e2a83bcde81c4084b127a1bc27b398f7",
       "style": "IPY_MODEL_3c30d10f6a5e40a79b4b16fef35d62c6",
       "value": false
      }
     },
     "adea0e78e3f5480c96b29c99a22217a3": {
      "model_module": "@jupyter-widgets/controls",
      "model_module_version": "2.0.0",
      "model_name": "LabelStyleModel",
      "state": {
       "description_width": "",
       "font_family": null,
       "font_size": null,
       "font_style": null,
       "font_variant": null,
       "font_weight": null,
       "text_color": null,
       "text_decoration": null
      }
     },
     "af3d80e188ce425dae14456c717f162c": {
      "model_module": "@jupyter-widgets/controls",
      "model_module_version": "2.0.0",
      "model_name": "CheckboxModel",
      "state": {
       "description": "x axis slice",
       "disabled": false,
       "layout": "IPY_MODEL_7da4bff80ecb438a8c872491a6c077cc",
       "style": "IPY_MODEL_170379e8a45b4a6db56ebd2d58f3d27a",
       "value": false
      }
     },
     "b08cf6da81e0469e9a0f48b902c5022f": {
      "model_module": "@jupyter-widgets/base",
      "model_module_version": "2.0.0",
      "model_name": "LayoutModel",
      "state": {
       "align_items": "center",
       "display": "flex",
       "flex_flow": "column",
       "width": "200px"
      }
     },
     "b124075728cd47e8a38c7c2984536cb5": {
      "model_module": "@jupyter-widgets/controls",
      "model_module_version": "2.0.0",
      "model_name": "IntSliderModel",
      "state": {
       "behavior": "drag-tap",
       "continuous_update": false,
       "description": "y index",
       "layout": "IPY_MODEL_11156486541a47f8a8bba02a0c2ed6c9",
       "max": 95,
       "readout": false,
       "style": "IPY_MODEL_618b647761ef4e80bda3fa345f5a3e96",
       "value": 48
      }
     },
     "b1c05d68a52847729f0c27a176005660": {
      "model_module": "@jupyter-widgets/controls",
      "model_module_version": "2.0.0",
      "model_name": "CheckboxModel",
      "state": {
       "description": "y axis slice",
       "disabled": false,
       "layout": "IPY_MODEL_694b428330484629b5cf6dd5a2781856",
       "style": "IPY_MODEL_3cc3bf7f1d444d83882d70b235b95ad0",
       "value": false
      }
     },
     "b203bbf0d1ed460dbcbfa3e8caadf5c4": {
      "model_module": "@jupyter-widgets/controls",
      "model_module_version": "2.0.0",
      "model_name": "CheckboxModel",
      "state": {
       "description": "Clip Plane",
       "disabled": false,
       "layout": "IPY_MODEL_f48833b421f84951ae8daaca88b1114c",
       "style": "IPY_MODEL_d2c3db4774e448daa00e3617b3261434",
       "value": false
      }
     },
     "b36b2f46aaf84e63be7cd3c61bd04b1d": {
      "model_module": "@jupyter-widgets/base",
      "model_module_version": "2.0.0",
      "model_name": "LayoutModel",
      "state": {
       "align_items": "center",
       "display": "flex",
       "flex_flow": "column",
       "width": "200px"
      }
     },
     "b92283eff05544d4a1998aff473fac83": {
      "model_module": "@jupyter-widgets/controls",
      "model_module_version": "2.0.0",
      "model_name": "IntSliderModel",
      "state": {
       "behavior": "drag-tap",
       "continuous_update": false,
       "description": "x index",
       "layout": "IPY_MODEL_ff14adc32a0d43a082aacaa8c4b27f93",
       "max": 105,
       "readout": false,
       "style": "IPY_MODEL_42410d53bcb84b01af7b054b25f50c97",
       "value": 53
      }
     },
     "bac9f5d7243743af84e5375feca31a85": {
      "model_module": "@jupyter-widgets/controls",
      "model_module_version": "2.0.0",
      "model_name": "CheckboxStyleModel",
      "state": {
       "description_width": ""
      }
     },
     "bbfbccfe94794b299983a51c6ae978fc": {
      "model_module": "@jupyter-widgets/controls",
      "model_module_version": "2.0.0",
      "model_name": "IntSliderModel",
      "state": {
       "behavior": "drag-tap",
       "continuous_update": false,
       "description": "z index",
       "layout": "IPY_MODEL_e5a68750c2b44a1dbabcebcaaff60c5e",
       "max": 95,
       "readout": false,
       "style": "IPY_MODEL_a359bb6a24db44b0a5164d781cd3c4bd",
       "value": 48
      }
     },
     "be47c4173fe546e882846e247c088732": {
      "model_module": "@jupyter-widgets/controls",
      "model_module_version": "2.0.0",
      "model_name": "IntSliderModel",
      "state": {
       "behavior": "drag-tap",
       "continuous_update": false,
       "description": "y index",
       "layout": "IPY_MODEL_f5b65999b76a4271a1ab6a73d811619f",
       "max": 95,
       "readout": false,
       "style": "IPY_MODEL_a7ed0e13016d43eeb91bec1be699b49c",
       "value": 48
      }
     },
     "be486aeab624499182946e8929b9d2d4": {
      "model_module": "@jupyter-widgets/controls",
      "model_module_version": "2.0.0",
      "model_name": "CheckboxModel",
      "state": {
       "description": "x axis slice",
       "disabled": false,
       "layout": "IPY_MODEL_694b428330484629b5cf6dd5a2781856",
       "style": "IPY_MODEL_7e173eebb0c445edb352c6118494c188",
       "value": false
      }
     },
     "c0f9d83829b24d59baca956f915b8657": {
      "model_module": "@jupyter-widgets/base",
      "model_module_version": "2.0.0",
      "model_name": "LayoutModel",
      "state": {}
     },
     "c1e1cdca04ef4a969e37fa5a65ac5e42": {
      "model_module": "@jupyter-widgets/controls",
      "model_module_version": "2.0.0",
      "model_name": "LabelStyleModel",
      "state": {
       "description_width": "",
       "font_family": null,
       "font_size": null,
       "font_style": null,
       "font_variant": null,
       "font_weight": null,
       "text_color": null,
       "text_decoration": null
      }
     },
     "c285e0f75d9e4ff9b71ab27a141ada2e": {
      "model_module": "@jupyter-widgets/controls",
      "model_module_version": "2.0.0",
      "model_name": "HTMLStyleModel",
      "state": {
       "description_width": "",
       "font_size": null,
       "text_color": null
      }
     },
     "c3553c4df0a2436c87aa99dff6a640fc": {
      "model_module": "@jupyter-widgets/base",
      "model_module_version": "2.0.0",
      "model_name": "LayoutModel",
      "state": {
       "width": "175px"
      }
     },
     "c35e993061e5482b8dfa6625531bb3bc": {
      "model_module": "@jupyter-widgets/controls",
      "model_module_version": "2.0.0",
      "model_name": "CheckboxStyleModel",
      "state": {
       "description_width": ""
      }
     },
     "c4d4444a744e4a9387d9491880c1f36d": {
      "model_module": "@jupyter-widgets/controls",
      "model_module_version": "2.0.0",
      "model_name": "CheckboxModel",
      "state": {
       "description": "Clip Plane",
       "disabled": false,
       "layout": "IPY_MODEL_5cf1dba6b3e04ee6a656e7791303d87c",
       "style": "IPY_MODEL_bac9f5d7243743af84e5375feca31a85",
       "value": true
      }
     },
     "c74cf3c8fd0e4b1e8b3e016196260c2e": {
      "model_module": "@jupyter-widgets/controls",
      "model_module_version": "2.0.0",
      "model_name": "CheckboxModel",
      "state": {
       "description": "z axis slice",
       "disabled": false,
       "layout": "IPY_MODEL_694b428330484629b5cf6dd5a2781856",
       "style": "IPY_MODEL_9173577487f94210abb90f6e25a0becd",
       "value": false
      }
     },
     "c792dc5740664173a1d4512c184d7a14": {
      "model_module": "@jupyter-widgets/controls",
      "model_module_version": "2.0.0",
      "model_name": "VBoxModel",
      "state": {
       "children": [
        "IPY_MODEL_f5db1e3c2e0d4d9b94ce144f23e7d2c0",
        "IPY_MODEL_cb951580a5644d01bee63902857ee88e",
        "IPY_MODEL_739bdd65ca2840d4bb5300309b744969",
        "IPY_MODEL_0e3f02013a924360ae5c75e1895d4905",
        "IPY_MODEL_00921c66f46c41dda2b3849ae9542bfb",
        "IPY_MODEL_03887bd8889843c2990276b8f7194a20",
        "IPY_MODEL_ace2cbd7e9e4427fb5a5aab01006e140",
        "IPY_MODEL_fca4d7fe9f1b435495682725dee57b55",
        "IPY_MODEL_204d2b99e0f74ab0b1128710f1b15d53",
        "IPY_MODEL_4f2a746ba2de476ca835137010f9f7bb",
        "IPY_MODEL_84f36744492b43819be01f3348ce4cac"
       ],
       "layout": "IPY_MODEL_b36b2f46aaf84e63be7cd3c61bd04b1d"
      }
     },
     "ca3520efba1545f281876ffb6e693d46": {
      "model_module": "@jupyter-widgets/controls",
      "model_module_version": "2.0.0",
      "model_name": "CheckboxStyleModel",
      "state": {
       "description_width": ""
      }
     },
     "cada55cf1c344b42a6f44f1fd220ca95": {
      "model_module": "@jupyter-widgets/controls",
      "model_module_version": "2.0.0",
      "model_name": "CheckboxModel",
      "state": {
       "description": "z axis slice",
       "disabled": false,
       "layout": "IPY_MODEL_5cf1dba6b3e04ee6a656e7791303d87c",
       "style": "IPY_MODEL_f8a8a522946c41fca480fd713cc1e2ae",
       "value": true
      }
     },
     "cb951580a5644d01bee63902857ee88e": {
      "model_module": "@jupyter-widgets/controls",
      "model_module_version": "2.0.0",
      "model_name": "CheckboxModel",
      "state": {
       "description": "Show Vol",
       "disabled": false,
       "layout": "IPY_MODEL_e2a83bcde81c4084b127a1bc27b398f7",
       "style": "IPY_MODEL_53ee9f5359de480baa18c977984b5d06",
       "value": true
      }
     },
     "cd2db9ccec604f07a741fa62439eff29": {
      "model_module": "@jupyter-widgets/base",
      "model_module_version": "2.0.0",
      "model_name": "LayoutModel",
      "state": {
       "align_items": "center",
       "display": "flex",
       "flex_flow": "row",
       "width": "600px"
      }
     },
     "cdaecdec0c5d4026869d9f564fe96360": {
      "model_module": "@jupyter-widgets/controls",
      "model_module_version": "2.0.0",
      "model_name": "LabelStyleModel",
      "state": {
       "description_width": "",
       "font_family": null,
       "font_size": null,
       "font_style": null,
       "font_variant": null,
       "font_weight": null,
       "text_color": null,
       "text_decoration": null
      }
     },
     "ce212ee1d8b54266b1338475d328848a": {
      "model_module": "@jupyter-widgets/controls",
      "model_module_version": "2.0.0",
      "model_name": "CheckboxStyleModel",
      "state": {
       "description_width": ""
      }
     },
     "ce3050d5176a4ee8992a24b598e4558c": {
      "model_module": "@jupyter-widgets/controls",
      "model_module_version": "2.0.0",
      "model_name": "IntSliderModel",
      "state": {
       "behavior": "drag-tap",
       "continuous_update": false,
       "description": "z index",
       "layout": "IPY_MODEL_f5b65999b76a4271a1ab6a73d811619f",
       "max": 95,
       "readout": false,
       "style": "IPY_MODEL_06024ebfd7b84a9697b7ee902b426088",
       "value": 48
      }
     },
     "cf47cced5b3c4035893c35dbba41ac9c": {
      "model_module": "@jupyter-widgets/base",
      "model_module_version": "2.0.0",
      "model_name": "LayoutModel",
      "state": {
       "align_items": "center",
       "display": "flex",
       "flex_flow": "column",
       "width": "200px"
      }
     },
     "d196db7c519149f1ad9b0ef80c143c4e": {
      "model_module": "@jupyter-widgets/controls",
      "model_module_version": "2.0.0",
      "model_name": "HTMLModel",
      "state": {
       "layout": "IPY_MODEL_3aaed8d38b7748cabc40c2604d347eb4",
       "style": "IPY_MODEL_78b3f304b5ae446188d61d27343ce250",
       "value": "<iframe src='http://localhost:40907/index.html?ui=P_0x7ff984a01010_4&reconnect=auto' style='width: 400px; height: 400px;'></iframe>"
      }
     },
     "d2c3db4774e448daa00e3617b3261434": {
      "model_module": "@jupyter-widgets/controls",
      "model_module_version": "2.0.0",
      "model_name": "CheckboxStyleModel",
      "state": {
       "description_width": ""
      }
     },
     "d2fad5a082ec4387a7b1649e644e9d0a": {
      "model_module": "@jupyter-widgets/controls",
      "model_module_version": "2.0.0",
      "model_name": "VBoxModel",
      "state": {
       "children": [
        "IPY_MODEL_39325773009f4b6680587a0dfd4b243a",
        "IPY_MODEL_eeeca0445d484eef924c078ba384e016",
        "IPY_MODEL_8ab3b13cbbb44f24afce291007db1290",
        "IPY_MODEL_747d53eb06444ca895d68f59a5a07eba",
        "IPY_MODEL_d5c6d061b7144dbfae95d845f7ec20e6",
        "IPY_MODEL_25137a61caac4fcda5c15b3159ae5ee8",
        "IPY_MODEL_6fc6efde40b149a5b8ec3f691b71c6e7",
        "IPY_MODEL_acc64dfeaac940e5a73571d7c1ed9efb",
        "IPY_MODEL_57e4a27a501247079385f6010459ee4f",
        "IPY_MODEL_1264f02da1d844f38d2649d6bdbce564",
        "IPY_MODEL_bbfbccfe94794b299983a51c6ae978fc"
       ],
       "layout": "IPY_MODEL_b08cf6da81e0469e9a0f48b902c5022f"
      }
     },
     "d30ba0fe5a174cb585b8db7af38be31b": {
      "model_module": "@jupyter-widgets/controls",
      "model_module_version": "2.0.0",
      "model_name": "HTMLModel",
      "state": {
       "layout": "IPY_MODEL_357f56eaed7f455a81e5daf54e82123b",
       "style": "IPY_MODEL_c285e0f75d9e4ff9b71ab27a141ada2e",
       "value": "<iframe src='http://localhost:40907/index.html?ui=P_0x7ff984ac6bd0_1&reconnect=auto' style='width: 400px; height: 400px;'></iframe>"
      }
     },
     "d3a57fd627d742d9aa5b89052e3fe92a": {
      "model_module": "@jupyter-widgets/controls",
      "model_module_version": "2.0.0",
      "model_name": "IntSliderModel",
      "state": {
       "behavior": "drag-tap",
       "continuous_update": false,
       "description": "z index",
       "layout": "IPY_MODEL_11156486541a47f8a8bba02a0c2ed6c9",
       "max": 95,
       "readout": false,
       "style": "IPY_MODEL_6a141c1105b440d4a717a98ec9bd8466",
       "value": 48
      }
     },
     "d3d86950004a434a8352ffba82b275e3": {
      "model_module": "@jupyter-widgets/controls",
      "model_module_version": "2.0.0",
      "model_name": "CheckboxModel",
      "state": {
       "description": "z axis slice",
       "disabled": false,
       "layout": "IPY_MODEL_de57d517235e49da95ed69bb3cda2413",
       "style": "IPY_MODEL_c35e993061e5482b8dfa6625531bb3bc",
       "value": true
      }
     },
     "d4c65ee762d24ddba860bfe474f7a557": {
      "model_module": "@jupyter-widgets/controls",
      "model_module_version": "2.0.0",
      "model_name": "SliderStyleModel",
      "state": {
       "description_width": ""
      }
     },
     "d542d97f17bb4b81a949837a889a55e1": {
      "model_module": "@jupyter-widgets/base",
      "model_module_version": "2.0.0",
      "model_name": "LayoutModel",
      "state": {}
     },
     "d5c6d061b7144dbfae95d845f7ec20e6": {
      "model_module": "@jupyter-widgets/controls",
      "model_module_version": "2.0.0",
      "model_name": "CheckboxModel",
      "state": {
       "description": "x axis slice",
       "disabled": false,
       "layout": "IPY_MODEL_7d3b5b79a0d44941a8906887a6b3c58f",
       "style": "IPY_MODEL_f06ebd283b6041f5ac0d257ccb4673ed",
       "value": true
      }
     },
     "d5ed3f5a55f14c5ca6940345327fd50d": {
      "model_module": "@jupyter-widgets/base",
      "model_module_version": "2.0.0",
      "model_name": "LayoutModel",
      "state": {
       "align_items": "center",
       "display": "flex",
       "flex_flow": "row",
       "width": "600px"
      }
     },
     "d80598d1416a49d4b04c3b175fe7f01a": {
      "model_module": "@jupyter-widgets/controls",
      "model_module_version": "2.0.0",
      "model_name": "HTMLStyleModel",
      "state": {
       "description_width": "",
       "font_size": null,
       "text_color": null
      }
     },
     "d992dc0ee607430798393555b467f8cc": {
      "model_module": "@jupyter-widgets/base",
      "model_module_version": "2.0.0",
      "model_name": "LayoutModel",
      "state": {}
     },
     "de57d517235e49da95ed69bb3cda2413": {
      "model_module": "@jupyter-widgets/base",
      "model_module_version": "2.0.0",
      "model_name": "LayoutModel",
      "state": {
       "width": "175px"
      }
     },
     "de9f4edb80e04120badf80e252c81b31": {
      "model_module": "@jupyter-widgets/base",
      "model_module_version": "2.0.0",
      "model_name": "LayoutModel",
      "state": {
       "width": "175px"
      }
     },
     "df7eeddd29344208aa4cb02e2200be37": {
      "model_module": "@jupyter-widgets/base",
      "model_module_version": "2.0.0",
      "model_name": "LayoutModel",
      "state": {}
     },
     "e15b419145f54605a576e0123a7a6650": {
      "model_module": "@jupyter-widgets/controls",
      "model_module_version": "2.0.0",
      "model_name": "SliderStyleModel",
      "state": {
       "description_width": ""
      }
     },
     "e28892662cb84a0aa2b97ff857f72a62": {
      "model_module": "@jupyter-widgets/controls",
      "model_module_version": "2.0.0",
      "model_name": "HTMLModel",
      "state": {
       "layout": "IPY_MODEL_4268561d355c4c1b89c8b87511e4388a",
       "style": "IPY_MODEL_d80598d1416a49d4b04c3b175fe7f01a",
       "value": "<iframe src='http://localhost:40907/index.html?ui=P_0x7ff9600f6e90_6&reconnect=auto' style='width: 400px; height: 400px;'></iframe>"
      }
     },
     "e2a83bcde81c4084b127a1bc27b398f7": {
      "model_module": "@jupyter-widgets/base",
      "model_module_version": "2.0.0",
      "model_name": "LayoutModel",
      "state": {
       "width": "175px"
      }
     },
     "e39f735b77c445cea3dc8064ad95e0c3": {
      "model_module": "@jupyter-widgets/controls",
      "model_module_version": "2.0.0",
      "model_name": "IntSliderModel",
      "state": {
       "behavior": "drag-tap",
       "continuous_update": false,
       "description": "x index",
       "layout": "IPY_MODEL_f5b65999b76a4271a1ab6a73d811619f",
       "max": 105,
       "readout": false,
       "style": "IPY_MODEL_f668f2ac4673428c97e2aab310e364dd",
       "value": 53
      }
     },
     "e41c4ce5e1834fbab260ef4a1b1ef5ed": {
      "model_module": "@jupyter-widgets/controls",
      "model_module_version": "2.0.0",
      "model_name": "CheckboxStyleModel",
      "state": {
       "description_width": ""
      }
     },
     "e5399f5c73f34b188410d18278dce5fb": {
      "model_module": "@jupyter-widgets/controls",
      "model_module_version": "2.0.0",
      "model_name": "LabelModel",
      "state": {
       "layout": "IPY_MODEL_3bace903769c4e059749cdc086d1ed0c",
       "style": "IPY_MODEL_69617105d2a9406c876ca9261fb94373",
       "value": "Slice Controls"
      }
     },
     "e5a68750c2b44a1dbabcebcaaff60c5e": {
      "model_module": "@jupyter-widgets/base",
      "model_module_version": "2.0.0",
      "model_name": "LayoutModel",
      "state": {
       "width": "175px"
      }
     },
     "e688b20fd03440a8b8f95e4ed276c0c6": {
      "model_module": "@jupyter-widgets/controls",
      "model_module_version": "2.0.0",
      "model_name": "IntSliderModel",
      "state": {
       "behavior": "drag-tap",
       "continuous_update": false,
       "description": "z index",
       "layout": "IPY_MODEL_de9f4edb80e04120badf80e252c81b31",
       "max": 95,
       "readout": false,
       "style": "IPY_MODEL_6faf398bd69d40fcae759e2644806e08",
       "value": 48
      }
     },
     "e8c5d35451e1403f80ea2f33e10aecb6": {
      "model_module": "@jupyter-widgets/controls",
      "model_module_version": "2.0.0",
      "model_name": "VBoxModel",
      "state": {
       "children": [
        "IPY_MODEL_33e54d45a55c4fafb31361c14911e536",
        "IPY_MODEL_b203bbf0d1ed460dbcbfa3e8caadf5c4",
        "IPY_MODEL_5e98695eb44f45e683fc454858af5db5",
        "IPY_MODEL_06de55bb6341488b8c312ad6042cd9e3",
        "IPY_MODEL_8a917f23962c4968a4968f7445ac8650",
        "IPY_MODEL_ff9ff7f576a84f928811cd0fbd7ee1b7",
        "IPY_MODEL_5648bc3875c54ceab9422395b9ad49ee",
        "IPY_MODEL_ed468a25ba294a7d9f82d75536b58d82",
        "IPY_MODEL_5c27fc765504413b890d59588257447c",
        "IPY_MODEL_f0c0574b29da427c9c43ce4068c1975c"
       ],
       "layout": "IPY_MODEL_4a5ea0b8a93d4bdb9ce05933f4cf6855"
      }
     },
     "ea0382a5d6f8487a8c3d6c553743e1a1": {
      "model_module": "@jupyter-widgets/base",
      "model_module_version": "2.0.0",
      "model_name": "LayoutModel",
      "state": {}
     },
     "ebb4dfcef84145659b3e0db82950991e": {
      "model_module": "@jupyter-widgets/controls",
      "model_module_version": "2.0.0",
      "model_name": "CheckboxModel",
      "state": {
       "description": "Clip Plane",
       "disabled": false,
       "layout": "IPY_MODEL_de57d517235e49da95ed69bb3cda2413",
       "style": "IPY_MODEL_aba4dafde4bb414b846b70179a2b28f0",
       "value": false
      }
     },
     "ec1110c66b7d4d95997150575ff8546d": {
      "model_module": "@jupyter-widgets/controls",
      "model_module_version": "2.0.0",
      "model_name": "SliderStyleModel",
      "state": {
       "description_width": ""
      }
     },
     "ecf08802649b47f5b02621c82926918b": {
      "model_module": "@jupyter-widgets/controls",
      "model_module_version": "2.0.0",
      "model_name": "CheckboxStyleModel",
      "state": {
       "description_width": ""
      }
     },
     "ed1470caf9964b488f78a019670ade54": {
      "model_module": "@jupyter-widgets/controls",
      "model_module_version": "2.0.0",
      "model_name": "CheckboxStyleModel",
      "state": {
       "description_width": ""
      }
     },
     "ed468a25ba294a7d9f82d75536b58d82": {
      "model_module": "@jupyter-widgets/controls",
      "model_module_version": "2.0.0",
      "model_name": "IntSliderModel",
      "state": {
       "behavior": "drag-tap",
       "continuous_update": false,
       "description": "x index",
       "layout": "IPY_MODEL_51948f3712d645898af33ba613efa5c0",
       "max": 105,
       "readout": false,
       "style": "IPY_MODEL_78862b2220534958a326fe7fbad179e5",
       "value": 53
      }
     },
     "ed6fa47fe6024921ac1483252de615cf": {
      "model_module": "@jupyter-widgets/controls",
      "model_module_version": "2.0.0",
      "model_name": "CheckboxModel",
      "state": {
       "description": "Clip Plane",
       "disabled": false,
       "layout": "IPY_MODEL_694b428330484629b5cf6dd5a2781856",
       "style": "IPY_MODEL_5d80f2ae417043bc85a28965ec22dab9",
       "value": true
      }
     },
     "ee2c20ee3dda4afd9465b02c752df461": {
      "model_module": "@jupyter-widgets/base",
      "model_module_version": "2.0.0",
      "model_name": "LayoutModel",
      "state": {}
     },
     "ee515be126f2483680fd57cbe0eb36cd": {
      "model_module": "@jupyter-widgets/controls",
      "model_module_version": "2.0.0",
      "model_name": "CheckboxStyleModel",
      "state": {
       "description_width": ""
      }
     },
     "eeeca0445d484eef924c078ba384e016": {
      "model_module": "@jupyter-widgets/controls",
      "model_module_version": "2.0.0",
      "model_name": "CheckboxModel",
      "state": {
       "description": "Show Volume",
       "disabled": false,
       "indent": false,
       "layout": "IPY_MODEL_7d3b5b79a0d44941a8906887a6b3c58f",
       "style": "IPY_MODEL_f0ac3bef07a7458ca774042d19c4cca1",
       "value": true
      }
     },
     "ef3c46ed2eb04ff998bd8b5b1a2b1f19": {
      "model_module": "@jupyter-widgets/controls",
      "model_module_version": "2.0.0",
      "model_name": "HTMLModel",
      "state": {
       "layout": "IPY_MODEL_c0f9d83829b24d59baca956f915b8657",
       "style": "IPY_MODEL_4b07f67ac3cf43d5ae7928a958e43f22",
       "value": "<iframe src='http://localhost:40907/index.html?ui=P_0x7ff9fc7955d0_3&reconnect=auto' style='width: 400px; height: 400px;'></iframe>"
      }
     },
     "f06ebd283b6041f5ac0d257ccb4673ed": {
      "model_module": "@jupyter-widgets/controls",
      "model_module_version": "2.0.0",
      "model_name": "CheckboxStyleModel",
      "state": {
       "description_width": ""
      }
     },
     "f0ac3bef07a7458ca774042d19c4cca1": {
      "model_module": "@jupyter-widgets/controls",
      "model_module_version": "2.0.0",
      "model_name": "CheckboxStyleModel",
      "state": {
       "description_width": ""
      }
     },
     "f0c0574b29da427c9c43ce4068c1975c": {
      "model_module": "@jupyter-widgets/controls",
      "model_module_version": "2.0.0",
      "model_name": "IntSliderModel",
      "state": {
       "behavior": "drag-tap",
       "continuous_update": false,
       "description": "z index",
       "layout": "IPY_MODEL_51948f3712d645898af33ba613efa5c0",
       "max": 95,
       "readout": false,
       "style": "IPY_MODEL_4f4b0b31e7e348739de94ad16453a3f9",
       "value": 48
      }
     },
     "f196ff15a7c14fecbaf50c71eeb8b5c0": {
      "model_module": "@jupyter-widgets/controls",
      "model_module_version": "2.0.0",
      "model_name": "CheckboxStyleModel",
      "state": {
       "description_width": ""
      }
     },
     "f2532e3abf7443b992d1af9a4b388f15": {
      "model_module": "@jupyter-widgets/controls",
      "model_module_version": "2.0.0",
      "model_name": "CheckboxModel",
      "state": {
       "description": "Show Vol",
       "disabled": false,
       "layout": "IPY_MODEL_694b428330484629b5cf6dd5a2781856",
       "style": "IPY_MODEL_5f7b92ae2eac47529f6d1efa11c75ad9",
       "value": true
      }
     },
     "f26c4fc268834dc2869d42a9950c7299": {
      "model_module": "@jupyter-widgets/base",
      "model_module_version": "2.0.0",
      "model_name": "LayoutModel",
      "state": {
       "align_items": "center",
       "display": "flex",
       "flex_flow": "row",
       "width": "600px"
      }
     },
     "f48833b421f84951ae8daaca88b1114c": {
      "model_module": "@jupyter-widgets/base",
      "model_module_version": "2.0.0",
      "model_name": "LayoutModel",
      "state": {
       "width": "175px"
      }
     },
     "f5b65999b76a4271a1ab6a73d811619f": {
      "model_module": "@jupyter-widgets/base",
      "model_module_version": "2.0.0",
      "model_name": "LayoutModel",
      "state": {
       "width": "175px"
      }
     },
     "f5db1e3c2e0d4d9b94ce144f23e7d2c0": {
      "model_module": "@jupyter-widgets/controls",
      "model_module_version": "2.0.0",
      "model_name": "LabelModel",
      "state": {
       "layout": "IPY_MODEL_a4bc04c643804104abca80a8608d0853",
       "style": "IPY_MODEL_a81421d5b86046c9ae8112e4c1826b0f",
       "value": "Volume Controls"
      }
     },
     "f668f2ac4673428c97e2aab310e364dd": {
      "model_module": "@jupyter-widgets/controls",
      "model_module_version": "2.0.0",
      "model_name": "SliderStyleModel",
      "state": {
       "description_width": ""
      }
     },
     "f73bd835154f4083ade7b0a5886200b7": {
      "model_module": "@jupyter-widgets/controls",
      "model_module_version": "2.0.0",
      "model_name": "LabelStyleModel",
      "state": {
       "description_width": "",
       "font_family": null,
       "font_size": null,
       "font_style": null,
       "font_variant": null,
       "font_weight": null,
       "text_color": null,
       "text_decoration": null
      }
     },
     "f7bc57a5993b4debb164ac5405a4337f": {
      "model_module": "@jupyter-widgets/controls",
      "model_module_version": "2.0.0",
      "model_name": "CheckboxStyleModel",
      "state": {
       "description_width": ""
      }
     },
     "f8889f2199de4e638f5ec6f3e79ef397": {
      "model_module": "@jupyter-widgets/base",
      "model_module_version": "2.0.0",
      "model_name": "LayoutModel",
      "state": {}
     },
     "f89c9eaf8629494e8a1cac859fd2190c": {
      "model_module": "@jupyter-widgets/controls",
      "model_module_version": "2.0.0",
      "model_name": "CheckboxStyleModel",
      "state": {
       "description_width": ""
      }
     },
     "f8a8a522946c41fca480fd713cc1e2ae": {
      "model_module": "@jupyter-widgets/controls",
      "model_module_version": "2.0.0",
      "model_name": "CheckboxStyleModel",
      "state": {
       "description_width": ""
      }
     },
     "fb5ae146eb5146fe981310124a4ade2b": {
      "model_module": "@jupyter-widgets/base",
      "model_module_version": "2.0.0",
      "model_name": "LayoutModel",
      "state": {}
     },
     "fca4d7fe9f1b435495682725dee57b55": {
      "model_module": "@jupyter-widgets/controls",
      "model_module_version": "2.0.0",
      "model_name": "LabelModel",
      "state": {
       "layout": "IPY_MODEL_4affdef95fe54a6391781741af338a4a",
       "style": "IPY_MODEL_80a9d6ea6b3848a3aa9b13f1426cca20",
       "value": "Indices Controls"
      }
     },
     "ff14adc32a0d43a082aacaa8c4b27f93": {
      "model_module": "@jupyter-widgets/base",
      "model_module_version": "2.0.0",
      "model_name": "LayoutModel",
      "state": {
       "width": "175px"
      }
     },
     "ff9ff7f576a84f928811cd0fbd7ee1b7": {
      "model_module": "@jupyter-widgets/controls",
      "model_module_version": "2.0.0",
      "model_name": "CheckboxModel",
      "state": {
       "description": "z axis slice",
       "disabled": false,
       "layout": "IPY_MODEL_f48833b421f84951ae8daaca88b1114c",
       "style": "IPY_MODEL_f196ff15a7c14fecbaf50c71eeb8b5c0",
       "value": true
      }
     }
    },
    "version_major": 2,
    "version_minor": 0
   }
  }
 },
 "nbformat": 4,
 "nbformat_minor": 5
}
