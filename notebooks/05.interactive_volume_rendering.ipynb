{
 "cells": [
  {
   "cell_type": "markdown",
   "id": "d97f0827-4f27-4a62-af55-ead17042e96e",
   "metadata": {},
   "source": [
    "---\n",
    "title: Interactive Volume Rendering\n",
    "authors: [Georgios Varnavides, Colin Ophus]\n",
    "date: 2024/05/24\n",
    "---\n",
    "\n",
    "This is an example widget for rendering volumes interactively."
   ]
  },
  {
   "cell_type": "code",
   "execution_count": 1,
   "id": "75d6526d-6a7b-418c-84fc-e7337402e40e",
   "metadata": {},
   "outputs": [],
   "source": [
    "# Widget combining k3d + ipywidgets for volume rendering.\n",
    "\n",
    "from IPython.display import display\n",
    "import matplotlib.pyplot as plt\n",
    "import k3d\n",
    "\n",
    "from ipywidgets import Checkbox, IntSlider, Layout, HBox, VBox, Label, Dropdown, FloatSlider, Output\n",
    "import numpy as np\n",
    "from scipy.ndimage import maximum_filter\n",
    "import h5py"
   ]
  },
  {
   "cell_type": "code",
   "execution_count": 2,
   "id": "b4e29454-e0e6-4676-b2b1-8f3e844c28cb",
   "metadata": {},
   "outputs": [],
   "source": [
    "# colormap\n",
    "cmap_default = 'magma'\n",
    "cmap = np.array(getattr(k3d.matplotlib_color_maps,cmap_default),np.float32)\n",
    "\n",
    "# Data\n",
    "with h5py.File(\"data/CNT_overlap_tomo_missing.h5\",\"r\") as f:\n",
    "    values = f['reconstruction'][:]\n",
    "    p = np.logical_and(maximum_filter(\n",
    "        values,\n",
    "        size = 3,\n",
    "    ) == values, values > 3e-3).transpose(2,1,0)\n",
    "    \n",
    "    values -= values.min()\n",
    "    values /= values.max()\n",
    "nx, ny, nz = values.shape"
   ]
  },
  {
   "cell_type": "code",
   "execution_count": 3,
   "id": "27caa007-7de4-4276-ad31-e1cf019a5ae4",
   "metadata": {},
   "outputs": [],
   "source": [
    "cnt = k3d.volume(\n",
    "    values, \n",
    "    color_map=cmap,\n",
    "    alpha_coef=20,\n",
    "    color_range=[0.25,0.95],\n",
    "    bounds=[0, nz, 0, ny, 0, nx]\n",
    ")\n",
    "\n",
    "xyz = np.argwhere(p).astype(np.float32)\n",
    "points = k3d.points(\n",
    "    xyz,\n",
    "    point_size=2.5,\n",
    "    color=175,\n",
    "    opacity=0.5,\n",
    ")\n",
    "\n",
    "plot = k3d.plot(\n",
    "    grid_visible=False,\n",
    "    menu_visibility=False,\n",
    "    camera_mode='orbit',\n",
    "    colorbar_object_id=0,\n",
    "    camera_fov=30,\n",
    ")\n",
    "plot += cnt\n",
    "plot += points\n",
    "\n",
    "points.visible = False"
   ]
  },
  {
   "cell_type": "code",
   "execution_count": 4,
   "id": "3830eb7a-223a-4c7d-b6ac-9ab798adb4be",
   "metadata": {},
   "outputs": [],
   "source": [
    "# Widgets \n",
    "sequential_cmaps = [\n",
    "    'gray','viridis', 'plasma', 'inferno', 'magma', 'cividis','turbo',\n",
    "    'Purples_r', 'Blues_r', 'Greens_r', 'Oranges_r', 'Reds_r',\n",
    "    'YlOrBr_r', 'YlOrRd_r', 'OrRd_r', 'PuRd_r', 'RdPu_r', 'BuPu_r',\n",
    "    'GnBu_r', 'PuBu_r', 'YlGnBu_r', 'PuBuGn_r', 'BuGn_r', 'YlGn_r'\n",
    "]\n",
    "\n",
    "def update_colormap(change):\n",
    "    cmap_string = change['new']\n",
    "    cmap = np.array(getattr(k3d.matplotlib_color_maps,cmap_string),np.float32)\n",
    "    cnt.color_map = cmap\n",
    "    return None\n",
    "\n",
    "def toggle_vol(change):\n",
    "    visible = change['new']\n",
    "    cnt.visible = visible\n",
    "    return None\n",
    "\n",
    "def toggle_atoms(change):\n",
    "    visible = change['new']\n",
    "    points.visible =visible\n",
    "    return None\n",
    "\n",
    "def update_atoms_size(change):\n",
    "    size = change['new']\n",
    "    points.point_size = size\n",
    "    return None"
   ]
  },
  {
   "cell_type": "code",
   "execution_count": 5,
   "id": "a5efbae7-76ee-4161-8952-83800d4e4f87",
   "metadata": {},
   "outputs": [
    {
     "data": {
      "application/vnd.jupyter.widget-view+json": {
       "model_id": "610fe82ddc764aa2a99f475868feec44",
       "version_major": 2,
       "version_minor": 0
      },
      "text/plain": [
       "HBox(children=(Output(layout=Layout(width='400px')), VBox(children=(Label(value='Visual Controls'), Dropdown(d…"
      ]
     },
     "metadata": {},
     "output_type": "display_data"
    }
   ],
   "source": [
    "#| label: app:interactive_volume_rendering\n",
    "\n",
    "cmap_widget =Dropdown(options=sequential_cmaps,value=cmap_default,description=\"Colormap\",indent=False,layout=Layout(width='175px'))\n",
    "cmap_widget.observe(update_colormap,names='value')\n",
    "\n",
    "layout = Layout(width='175px')\n",
    "\n",
    "vol_checkbox = Checkbox(\n",
    "    value=True,\n",
    "    description='Volume',\n",
    "    indent=True,\n",
    "    layout=layout,\n",
    ")\n",
    "vol_checkbox.observe(toggle_vol,names='value')\n",
    "\n",
    "atoms_checkbox = Checkbox(\n",
    "    value=False,\n",
    "    description='Atoms',\n",
    "    indent=True,\n",
    "    layout=layout,\n",
    ")\n",
    "atoms_checkbox.observe(toggle_atoms,names='value')\n",
    "\n",
    "atoms_slider = FloatSlider(\n",
    "    value=2.5,\n",
    "    min=1,\n",
    "    max=10,\n",
    "    step=0.25,\n",
    "    description='atoms size',\n",
    "    continuous_update=False,\n",
    "    layout=layout,\n",
    "    readout=False,\n",
    ")\n",
    "atoms_slider.observe(update_atoms_size,names='value')\n",
    "\n",
    "controls_layout = Layout(\n",
    "    display='flex',\n",
    "    flex_flow='column',\n",
    "    align_items='center',\n",
    "    width='200px'\n",
    ")\n",
    "\n",
    "controls = VBox(\n",
    "    [\n",
    "        Label(\"Visual Controls\"),\n",
    "        cmap_widget,\n",
    "        vol_checkbox,\n",
    "        atoms_checkbox,\n",
    "        atoms_slider,\n",
    "    ],\n",
    "    layout=controls_layout\n",
    ")\n",
    "\n",
    "visualization_layout = Layout(\n",
    "    display='flex',\n",
    "    flex_flow='row',\n",
    "    align_items='center',\n",
    "    width='630px'\n",
    ")\n",
    "\n",
    "out = Output(layout=Layout(width=\"400px\"))\n",
    "with out:\n",
    "    plot.display()\n",
    "\n",
    "display(\n",
    "    HBox([\n",
    "        out,\n",
    "        controls\n",
    "    ],\n",
    "        layout=visualization_layout\n",
    "        )\n",
    ")"
   ]
  },
  {
   "cell_type": "code",
   "execution_count": null,
   "id": "d6635866-c3b1-47d3-b1f8-6df76bf54938",
   "metadata": {},
   "outputs": [],
   "source": []
  }
 ],
 "metadata": {
  "kernelspec": {
   "display_name": "Python 3 (ipykernel)",
   "language": "python",
   "name": "python3"
  },
  "language_info": {
   "codemirror_mode": {
    "name": "ipython",
    "version": 3
   },
   "file_extension": ".py",
   "mimetype": "text/x-python",
   "name": "python",
   "nbconvert_exporter": "python",
   "pygments_lexer": "ipython3",
   "version": "3.12.4"
  },
  "widgets": {
   "application/vnd.jupyter.widget-state+json": {
    "state": {
     "0aeb913f3a4a4abfb029b3158f83ad5c": {
      "model_module": "@jupyter-widgets/base",
      "model_module_version": "2.0.0",
      "model_name": "LayoutModel",
      "state": {
       "width": "175px"
      }
     },
     "15186a3c3d564601967c81536739a00c": {
      "model_module": "@jupyter-widgets/controls",
      "model_module_version": "2.0.0",
      "model_name": "SliderStyleModel",
      "state": {
       "description_width": ""
      }
     },
     "16e1121cce514c69a000b0f2af4c3fb1": {
      "model_module": "@jupyter-widgets/base",
      "model_module_version": "2.0.0",
      "model_name": "LayoutModel",
      "state": {}
     },
     "19efadd023bc4a37a11c6f8f4c893714": {
      "model_module": "@jupyter-widgets/controls",
      "model_module_version": "2.0.0",
      "model_name": "CheckboxModel",
      "state": {
       "description": "z axis slice",
       "disabled": false,
       "layout": "IPY_MODEL_ceba4b33d358495bab6db5a563adc90a",
       "style": "IPY_MODEL_94498addb7fd4ff98985f1786803a1a1",
       "value": false
      }
     },
     "1f1116828d634be0bcd7c3861c4f33ba": {
      "model_module": "@jupyter-widgets/controls",
      "model_module_version": "2.0.0",
      "model_name": "SliderStyleModel",
      "state": {
       "description_width": ""
      }
     },
     "21826a5bb87647b8bc5b126b96eba83b": {
      "model_module": "@jupyter-widgets/controls",
      "model_module_version": "2.0.0",
      "model_name": "HBoxModel",
      "state": {
       "children": [
        "IPY_MODEL_5373446b154f4b8684d4204a7af382cf",
        "IPY_MODEL_99ea6b5295c4483ca8606be85174da20"
       ],
       "layout": "IPY_MODEL_2ed3564b6fb4456791bf38295a51ec2f"
      }
     },
     "258f5963fba143809ea523b7d4b80ecb": {
      "model_module": "@jupyter-widgets/controls",
      "model_module_version": "2.0.0",
      "model_name": "CheckboxModel",
      "state": {
       "description": "Volume",
       "disabled": false,
       "layout": "IPY_MODEL_ceba4b33d358495bab6db5a563adc90a",
       "style": "IPY_MODEL_a81d2fc0695f4dafa9e7e1ef6b02beeb",
       "value": true
      }
     },
     "2c54e6527e044b11be56270053b2b41d": {
      "model_module": "@jupyter-widgets/controls",
      "model_module_version": "2.0.0",
      "model_name": "LabelModel",
      "state": {
       "layout": "IPY_MODEL_da09d84959f64429a555874844437b0f",
       "style": "IPY_MODEL_309860339ad94fdbad5aed8707519c0d",
       "value": "Visual Controls"
      }
     },
     "2ed3564b6fb4456791bf38295a51ec2f": {
      "model_module": "@jupyter-widgets/base",
      "model_module_version": "2.0.0",
      "model_name": "LayoutModel",
      "state": {
       "align_items": "center",
       "display": "flex",
       "flex_flow": "row",
       "width": "660px"
      }
     },
     "309860339ad94fdbad5aed8707519c0d": {
      "model_module": "@jupyter-widgets/controls",
      "model_module_version": "2.0.0",
      "model_name": "LabelStyleModel",
      "state": {
       "description_width": "",
       "font_family": null,
       "font_size": null,
       "font_style": null,
       "font_variant": null,
       "font_weight": null,
       "text_color": null,
       "text_decoration": null
      }
     },
     "3972c65116cf455794e5d4535fbd3656": {
      "model_module": "@jupyter-widgets/controls",
      "model_module_version": "2.0.0",
      "model_name": "CheckboxModel",
      "state": {
       "description": "x axis slice",
       "disabled": false,
       "layout": "IPY_MODEL_ceba4b33d358495bab6db5a563adc90a",
       "style": "IPY_MODEL_d1f01830ad0c4a44b92bda23e7a4d489",
       "value": false
      }
     },
     "404217e8a5d94510a2445cfea2064079": {
      "model_module": "@jupyter-widgets/controls",
      "model_module_version": "2.0.0",
      "model_name": "CheckboxStyleModel",
      "state": {
       "description_width": ""
      }
     },
     "4ccb8de12bf64054bcc2fd32a6dbea22": {
      "model_module": "@jupyter-widgets/controls",
      "model_module_version": "2.0.0",
      "model_name": "CheckboxStyleModel",
      "state": {
       "description_width": ""
      }
     },
     "5373446b154f4b8684d4204a7af382cf": {
      "model_module": "@jupyter-widgets/controls",
      "model_module_version": "2.0.0",
      "model_name": "HTMLModel",
      "state": {
       "layout": "IPY_MODEL_71a3fcd34f004cbfbb356367755be937",
       "style": "IPY_MODEL_cbe3a82f7cef4eaab5f518bb1289dc0a",
       "value": "<iframe src=\"http://localhost:39321/index.html?ui=P_0x7d21d0725a30_0&reconnect=auto\" class=\"pyvista\" style=\"width: 440px; height: 440px; border: 1px solid rgb(221,221,221);\"></iframe>"
      }
     },
     "5825b9b097f94ac0809e7abde4fdfb1b": {
      "model_module": "@jupyter-widgets/base",
      "model_module_version": "2.0.0",
      "model_name": "LayoutModel",
      "state": {
       "align_items": "center",
       "display": "flex",
       "flex_flow": "column",
       "width": "200px"
      }
     },
     "5a7c5b1141db47179c12eab3370f3740": {
      "model_module": "@jupyter-widgets/controls",
      "model_module_version": "2.0.0",
      "model_name": "IntSliderModel",
      "state": {
       "behavior": "drag-tap",
       "continuous_update": false,
       "description": "x index",
       "layout": "IPY_MODEL_0aeb913f3a4a4abfb029b3158f83ad5c",
       "max": 105,
       "readout": false,
       "style": "IPY_MODEL_1f1116828d634be0bcd7c3861c4f33ba",
       "value": 53
      }
     },
     "5da645c41aa34d198645c9e7f78aba8a": {
      "model_module": "@jupyter-widgets/controls",
      "model_module_version": "2.0.0",
      "model_name": "CheckboxModel",
      "state": {
       "description": "y axis slice",
       "disabled": false,
       "layout": "IPY_MODEL_ceba4b33d358495bab6db5a563adc90a",
       "style": "IPY_MODEL_4ccb8de12bf64054bcc2fd32a6dbea22",
       "value": false
      }
     },
     "672bdce6001649cfac1d763333fb01ce": {
      "model_module": "@jupyter-widgets/controls",
      "model_module_version": "2.0.0",
      "model_name": "CheckboxModel",
      "state": {
       "description": "Atoms",
       "disabled": false,
       "layout": "IPY_MODEL_ceba4b33d358495bab6db5a563adc90a",
       "style": "IPY_MODEL_a949d03175a444b3bb98a1089dab9d84",
       "value": false
      }
     },
     "67840fa506154cb09f6fd7520738c14a": {
      "model_module": "@jupyter-widgets/controls",
      "model_module_version": "2.0.0",
      "model_name": "LabelModel",
      "state": {
       "layout": "IPY_MODEL_16e1121cce514c69a000b0f2af4c3fb1",
       "style": "IPY_MODEL_c3ba66d6312445359c05d4bc0b7e5595",
       "value": "Indices Controls"
      }
     },
     "6ae080e12f6c49ebbce62a68a53fc099": {
      "model_module": "@jupyter-widgets/controls",
      "model_module_version": "2.0.0",
      "model_name": "LabelStyleModel",
      "state": {
       "description_width": "",
       "font_family": null,
       "font_size": null,
       "font_style": null,
       "font_variant": null,
       "font_weight": null,
       "text_color": null,
       "text_decoration": null
      }
     },
     "71a3fcd34f004cbfbb356367755be937": {
      "model_module": "@jupyter-widgets/base",
      "model_module_version": "2.0.0",
      "model_name": "LayoutModel",
      "state": {}
     },
     "744c19d20a954dc586d3b05592445612": {
      "model_module": "@jupyter-widgets/controls",
      "model_module_version": "2.0.0",
      "model_name": "SliderStyleModel",
      "state": {
       "description_width": ""
      }
     },
     "7f5b3f0fc4f04efaba99bf5e8e1afaf3": {
      "model_module": "@jupyter-widgets/controls",
      "model_module_version": "2.0.0",
      "model_name": "LabelModel",
      "state": {
       "layout": "IPY_MODEL_a4b7ac77d1be4fd1b35b841019f36a68",
       "style": "IPY_MODEL_6ae080e12f6c49ebbce62a68a53fc099",
       "value": "Slice Controls"
      }
     },
     "829325c15d2c447da22cb0989dd9d8d2": {
      "model_module": "@jupyter-widgets/controls",
      "model_module_version": "2.0.0",
      "model_name": "DescriptionStyleModel",
      "state": {
       "description_width": ""
      }
     },
     "93d2a0cfa30548ba9c90b522641c4839": {
      "model_module": "@jupyter-widgets/controls",
      "model_module_version": "2.0.0",
      "model_name": "IntSliderModel",
      "state": {
       "behavior": "drag-tap",
       "continuous_update": false,
       "description": "z index",
       "layout": "IPY_MODEL_0aeb913f3a4a4abfb029b3158f83ad5c",
       "max": 95,
       "readout": false,
       "style": "IPY_MODEL_15186a3c3d564601967c81536739a00c",
       "value": 48
      }
     },
     "94498addb7fd4ff98985f1786803a1a1": {
      "model_module": "@jupyter-widgets/controls",
      "model_module_version": "2.0.0",
      "model_name": "CheckboxStyleModel",
      "state": {
       "description_width": ""
      }
     },
     "997ecfa8d2a7486ba617c1f9330c04ff": {
      "model_module": "@jupyter-widgets/controls",
      "model_module_version": "2.0.0",
      "model_name": "FloatSliderModel",
      "state": {
       "behavior": "drag-tap",
       "continuous_update": false,
       "description": "atoms size",
       "layout": "IPY_MODEL_0aeb913f3a4a4abfb029b3158f83ad5c",
       "max": 20,
       "min": 5,
       "readout": false,
       "step": 0.125,
       "style": "IPY_MODEL_744c19d20a954dc586d3b05592445612",
       "value": 10
      }
     },
     "99ea6b5295c4483ca8606be85174da20": {
      "model_module": "@jupyter-widgets/controls",
      "model_module_version": "2.0.0",
      "model_name": "VBoxModel",
      "state": {
       "children": [
        "IPY_MODEL_2c54e6527e044b11be56270053b2b41d",
        "IPY_MODEL_eb76cd822d194afca03cffecc590be78",
        "IPY_MODEL_258f5963fba143809ea523b7d4b80ecb",
        "IPY_MODEL_b732bd1b5bd14dd7a7797efe58086f65",
        "IPY_MODEL_672bdce6001649cfac1d763333fb01ce",
        "IPY_MODEL_997ecfa8d2a7486ba617c1f9330c04ff",
        "IPY_MODEL_7f5b3f0fc4f04efaba99bf5e8e1afaf3",
        "IPY_MODEL_3972c65116cf455794e5d4535fbd3656",
        "IPY_MODEL_5da645c41aa34d198645c9e7f78aba8a",
        "IPY_MODEL_19efadd023bc4a37a11c6f8f4c893714",
        "IPY_MODEL_67840fa506154cb09f6fd7520738c14a",
        "IPY_MODEL_5a7c5b1141db47179c12eab3370f3740",
        "IPY_MODEL_a9454f866b34451bbc388b752f3a886c",
        "IPY_MODEL_93d2a0cfa30548ba9c90b522641c4839"
       ],
       "layout": "IPY_MODEL_5825b9b097f94ac0809e7abde4fdfb1b"
      }
     },
     "9b23c2088f0b41f7bde2fc0101752876": {
      "model_module": "@jupyter-widgets/base",
      "model_module_version": "2.0.0",
      "model_name": "LayoutModel",
      "state": {
       "width": "175px"
      }
     },
     "a4b7ac77d1be4fd1b35b841019f36a68": {
      "model_module": "@jupyter-widgets/base",
      "model_module_version": "2.0.0",
      "model_name": "LayoutModel",
      "state": {}
     },
     "a81d2fc0695f4dafa9e7e1ef6b02beeb": {
      "model_module": "@jupyter-widgets/controls",
      "model_module_version": "2.0.0",
      "model_name": "CheckboxStyleModel",
      "state": {
       "description_width": ""
      }
     },
     "a9454f866b34451bbc388b752f3a886c": {
      "model_module": "@jupyter-widgets/controls",
      "model_module_version": "2.0.0",
      "model_name": "IntSliderModel",
      "state": {
       "behavior": "drag-tap",
       "continuous_update": false,
       "description": "y index",
       "layout": "IPY_MODEL_0aeb913f3a4a4abfb029b3158f83ad5c",
       "max": 95,
       "readout": false,
       "style": "IPY_MODEL_fd4110ba215d4f258a22699dbbe70f69",
       "value": 48
      }
     },
     "a949d03175a444b3bb98a1089dab9d84": {
      "model_module": "@jupyter-widgets/controls",
      "model_module_version": "2.0.0",
      "model_name": "CheckboxStyleModel",
      "state": {
       "description_width": ""
      }
     },
     "b732bd1b5bd14dd7a7797efe58086f65": {
      "model_module": "@jupyter-widgets/controls",
      "model_module_version": "2.0.0",
      "model_name": "CheckboxModel",
      "state": {
       "description": "Clip Plane",
       "disabled": false,
       "layout": "IPY_MODEL_ceba4b33d358495bab6db5a563adc90a",
       "style": "IPY_MODEL_404217e8a5d94510a2445cfea2064079",
       "value": false
      }
     },
     "c3ba66d6312445359c05d4bc0b7e5595": {
      "model_module": "@jupyter-widgets/controls",
      "model_module_version": "2.0.0",
      "model_name": "LabelStyleModel",
      "state": {
       "description_width": "",
       "font_family": null,
       "font_size": null,
       "font_style": null,
       "font_variant": null,
       "font_weight": null,
       "text_color": null,
       "text_decoration": null
      }
     },
     "cbe3a82f7cef4eaab5f518bb1289dc0a": {
      "model_module": "@jupyter-widgets/controls",
      "model_module_version": "2.0.0",
      "model_name": "HTMLStyleModel",
      "state": {
       "description_width": "",
       "font_size": null,
       "text_color": null
      }
     },
     "ceba4b33d358495bab6db5a563adc90a": {
      "model_module": "@jupyter-widgets/base",
      "model_module_version": "2.0.0",
      "model_name": "LayoutModel",
      "state": {
       "width": "175px"
      }
     },
     "d1f01830ad0c4a44b92bda23e7a4d489": {
      "model_module": "@jupyter-widgets/controls",
      "model_module_version": "2.0.0",
      "model_name": "CheckboxStyleModel",
      "state": {
       "description_width": ""
      }
     },
     "da09d84959f64429a555874844437b0f": {
      "model_module": "@jupyter-widgets/base",
      "model_module_version": "2.0.0",
      "model_name": "LayoutModel",
      "state": {}
     },
     "eb76cd822d194afca03cffecc590be78": {
      "model_module": "@jupyter-widgets/controls",
      "model_module_version": "2.0.0",
      "model_name": "DropdownModel",
      "state": {
       "_options_labels": [
        "gray",
        "viridis",
        "plasma",
        "inferno",
        "magma",
        "cividis",
        "turbo",
        "Purples_r",
        "Blues_r",
        "Greens_r",
        "Oranges_r",
        "Reds_r",
        "YlOrBr_r",
        "YlOrRd_r",
        "OrRd_r",
        "PuRd_r",
        "RdPu_r",
        "BuPu_r",
        "GnBu_r",
        "PuBu_r",
        "YlGnBu_r",
        "PuBuGn_r",
        "BuGn_r",
        "YlGn_r"
       ],
       "description": "Colormap",
       "index": 4,
       "layout": "IPY_MODEL_9b23c2088f0b41f7bde2fc0101752876",
       "style": "IPY_MODEL_829325c15d2c447da22cb0989dd9d8d2"
      }
     },
     "fd4110ba215d4f258a22699dbbe70f69": {
      "model_module": "@jupyter-widgets/controls",
      "model_module_version": "2.0.0",
      "model_name": "SliderStyleModel",
      "state": {
       "description_width": ""
      }
     }
    },
    "version_major": 2,
    "version_minor": 0
   }
  }
 },
 "nbformat": 4,
 "nbformat_minor": 5
}
