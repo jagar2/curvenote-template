{
 "cells": [
  {
   "cell_type": "markdown",
   "id": "d97f0827-4f27-4a62-af55-ead17042e96e",
   "metadata": {},
   "source": [
    "---\n",
    "title: Interactive Volume Rendering\n",
    "author: Georgios Varnavides\n",
    "date: 2023/08/01\n",
    "---\n",
    "\n",
    "This is an example widget for rendering volumes interactively."
   ]
  },
  {
   "cell_type": "code",
   "execution_count": 2,
   "id": "a5efbae7-76ee-4161-8952-83800d4e4f87",
   "metadata": {},
   "outputs": [
    {
     "data": {
      "application/vnd.jupyter.widget-view+json": {
       "model_id": "2248a9c17e73477da4a3ea5d1fabefe8",
       "version_major": 2,
       "version_minor": 0
      },
      "text/plain": [
       "HBox(children=(Widget(value=\"<iframe src='http://localhost:62388/index.html?ui=P_0x28905e010_1&reconnect=auto'…"
      ]
     },
     "metadata": {},
     "output_type": "display_data"
    }
   ],
   "source": [
    "#| label: app:interactive_volume_rendering\n",
    "# Widget combining pyvista + ipywidgets for volume rendering.\n",
    "\n",
    "from IPython.display import display\n",
    "import matplotlib.pyplot as plt\n",
    "import pyvista as pv\n",
    "import vtk\n",
    "from ipywidgets import Checkbox, IntSlider, Layout, HBox, VBox, Label, Dropdown\n",
    "import numpy as np\n",
    "import h5py\n",
    "\n",
    "# Data\n",
    "with h5py.File(\"data/CNT_overlap_tomo_missing.h5\",\"r\") as f:\n",
    "    values = f['reconstruction'][:]\n",
    "\n",
    "nx, ny, nz = values.shape\n",
    "\n",
    "grid = pv.ImageData(\n",
    "    dimensions=[nx+1,ny+1,nz+1],\n",
    "    origin=(0,0,0),\n",
    "    spacing=(1,1,1),\n",
    ")\n",
    "grid.cell_data[\"values\"] = values.flatten(order=\"F\")\n",
    "\n",
    "pl = pv.Plotter()\n",
    "\n",
    "vol = pl.add_volume(\n",
    "    grid,\n",
    "    name='volume',\n",
    "    opacity=\"sigmoid\",\n",
    "    cmap='magma',\n",
    "    show_scalar_bar=False,\n",
    ")\n",
    "\n",
    "grid_slice_x = grid.slice(\n",
    "    normal='x',\n",
    "    origin=(nx//2,ny//2,nz//2),\n",
    ")\n",
    "\n",
    "grid_slice_y = grid.slice(\n",
    "    normal='y',\n",
    "    origin=(nx//2,ny//2,nz//2),\n",
    ")\n",
    "\n",
    "grid_slice_z = grid.slice(\n",
    "    normal='z',\n",
    "    origin=(nx//2,ny//2,nz//2),\n",
    ")\n",
    "\n",
    "volume_clip_plane = pl.add_volume_clip_plane(\n",
    "    vol,\n",
    "    normal='x',\n",
    "    origin=(0,ny//2,nz//2),\n",
    ")\n",
    "volume_clip_plane.Off()\n",
    "\n",
    "slice_x = pl.add_mesh(\n",
    "    grid_slice_x,\n",
    "    show_scalar_bar=False,\n",
    "    cmap='magma',\n",
    "    opacity=0.875,\n",
    "    name=\"slice-x\"\n",
    ")\n",
    "\n",
    "slice_y = pl.add_mesh(\n",
    "    grid_slice_y,\n",
    "    show_scalar_bar=False,\n",
    "    cmap='magma',\n",
    "    opacity=0.875,\n",
    "    name=\"slice-y\"\n",
    ")\n",
    "\n",
    "slice_z = pl.add_mesh(\n",
    "    grid_slice_z,\n",
    "    show_scalar_bar=False,\n",
    "    cmap='magma',\n",
    "    opacity=0.875,\n",
    "    name=\"slice-z\"\n",
    ")\n",
    "\n",
    "slices = [slice_x,slice_y,slice_z]\n",
    "\n",
    "for slice in slices:\n",
    "    slice.SetVisibility(False)\n",
    "\n",
    "pl.camera.zoom(0.875)\n",
    "\n",
    "viewer = pl.show(\n",
    "    return_viewer = True,\n",
    "    interactive_update=True,\n",
    "    window_size=(400,400),\n",
    ")\n",
    "\n",
    "# Widgets \n",
    "sequential_cmaps = [\n",
    "    'gray','viridis', 'plasma', 'inferno', 'magma', 'cividis','turbo',\n",
    "    'Purples_r', 'Blues_r', 'Greens_r', 'Oranges_r', 'Reds_r',\n",
    "    'YlOrBr_r', 'YlOrRd_r', 'OrRd_r', 'PuRd_r', 'RdPu_r', 'BuPu_r',\n",
    "    'GnBu_r', 'PuBu_r', 'YlGnBu_r', 'PuBuGn_r', 'BuGn_r', 'YlGn_r'\n",
    "]\n",
    "\n",
    "def update_colormap(change):\n",
    "    cmap_string = change['new']\n",
    "    cf = vtk.vtkColorTransferFunction()\n",
    "    cmap = pv.LookupTable(cmap_string)\n",
    "    \n",
    "    for ii in range(cmap.n_values):\n",
    "        cf.AddRGBPoint(ii, *cmap(ii/(cmap.n_values-1))[:-1])\n",
    "    \n",
    "    vol.prop.SetColor(0,cf)\n",
    "\n",
    "    cx = nx - cx_slider.value\n",
    "    cy = cy_slider.value\n",
    "    cz = cy_slider.value\n",
    "    \n",
    "    pl.remove_actor(slices[0])\n",
    "    grid_slice_x = grid.slice(\n",
    "        normal='x',\n",
    "        origin=(cx,cy,cz),\n",
    "    )\n",
    "    \n",
    "    slices[0] = pl.add_mesh(\n",
    "        grid_slice_x,\n",
    "        show_scalar_bar=False,\n",
    "        cmap=cmap_string,\n",
    "        opacity=0.875,\n",
    "        name=\"slice-x\"\n",
    "    )\n",
    "    slices[0].SetVisibility(cx_checkbox.value)\n",
    "\n",
    "    pl.remove_actor(slices[1])   \n",
    "    grid_slice_y = grid.slice(\n",
    "        normal='y',\n",
    "        origin=(cx,cy,cz),\n",
    "    )\n",
    "\n",
    "    slices[1] = pl.add_mesh(\n",
    "        grid_slice_y,\n",
    "        show_scalar_bar=False,\n",
    "        cmap=cmap_string,\n",
    "        opacity=0.875,\n",
    "        name=\"slice-y\"\n",
    "    )\n",
    "    slices[1].SetVisibility(cy_checkbox.value)\n",
    "\n",
    "    pl.remove_actor(slices[2])   \n",
    "    grid_slice_z = grid.slice(\n",
    "        normal='z',\n",
    "        origin=(cx,cy,cz),\n",
    "    )\n",
    "\n",
    "    slices[2] = pl.add_mesh(\n",
    "        grid_slice_z,\n",
    "        show_scalar_bar=False,\n",
    "        cmap=cmap_string,\n",
    "        opacity=0.875,\n",
    "        name=\"slice-z\"\n",
    "    )\n",
    "    slices[2].SetVisibility(cz_checkbox.value)\n",
    "\n",
    "    pl.update()\n",
    "    return None\n",
    "    \n",
    "def update_x_slice(change):\n",
    "    if cx_checkbox.value:\n",
    "        cmap = cmap_widget.value\n",
    "        offset = nx-change['new']\n",
    "        cy = cy_slider.value\n",
    "        cz = cz_slider.value\n",
    "        \n",
    "        pl.remove_actor(slices[0])\n",
    "    \n",
    "        grid_slice_x = grid.slice(\n",
    "            normal='x',\n",
    "            origin=(offset,cy,cz),\n",
    "        )\n",
    "        \n",
    "        slices[0] = pl.add_mesh(\n",
    "            grid_slice_x,\n",
    "            show_scalar_bar=False,\n",
    "            cmap=cmap,\n",
    "            opacity=0.875,\n",
    "            name=\"slice-x\"\n",
    "        )\n",
    "        pl.update()\n",
    "    return None\n",
    "\n",
    "def update_y_slice(change):\n",
    "    if cy_checkbox.value:\n",
    "        cmap = cmap_widget.value\n",
    "        offset = change['new']\n",
    "        cx = nx - cx_slider.value\n",
    "        cz = cz_slider.value\n",
    "        \n",
    "        pl.remove_actor(slices[1])\n",
    "    \n",
    "        grid_slice_y = grid.slice(\n",
    "            normal='y',\n",
    "            origin=(cx,offset,cz),\n",
    "        )\n",
    "        \n",
    "        slices[1] = pl.add_mesh(\n",
    "            grid_slice_y,\n",
    "            show_scalar_bar=False,\n",
    "            cmap=cmap,\n",
    "            opacity=0.875,\n",
    "            name=\"slice-y\"\n",
    "        )\n",
    "        pl.update()\n",
    "    return None\n",
    "\n",
    "def update_z_slice(change):\n",
    "    if cz_checkbox.value:\n",
    "        cmap = cmap_widget.value\n",
    "        offset = change['new']\n",
    "        cx = nx - cx_slider.value\n",
    "        cy = cy_slider.value\n",
    "        \n",
    "        pl.remove_actor(slices[2])\n",
    "    \n",
    "        grid_slice_z = grid.slice(\n",
    "            normal='z',\n",
    "            origin=(cx,cy,offset),\n",
    "        )\n",
    "        \n",
    "        slices[2] = pl.add_mesh(\n",
    "            grid_slice_z,\n",
    "            show_scalar_bar=False,\n",
    "            cmap=cmap,\n",
    "            opacity=0.875,\n",
    "            name=\"slice-z\"\n",
    "        )\n",
    "        pl.update()\n",
    "    return None\n",
    "\n",
    "def toggle_x_slice(change):\n",
    "    visible = change['new']\n",
    "    slices[0].SetVisibility(visible)\n",
    "    pl.update()\n",
    "    return None\n",
    "\n",
    "def toggle_y_slice(change):\n",
    "    visible = change['new']\n",
    "    slices[1].SetVisibility(visible)\n",
    "    pl.update()\n",
    "    return None\n",
    "\n",
    "def toggle_z_slice(change):\n",
    "    visible = change['new']\n",
    "    slices[2].SetVisibility(visible)\n",
    "    pl.update()\n",
    "    return None\n",
    "\n",
    "def toggle_clip_plane(change):\n",
    "    visible = change['new']\n",
    "    if visible:\n",
    "        volume_clip_plane.On()\n",
    "    else:\n",
    "        volume_clip_plane.Off()\n",
    "    pl.update()\n",
    "    return None\n",
    "\n",
    "def toggle_vol(change):\n",
    "    visible = change['new']\n",
    "    vol.SetVisibility(visible)\n",
    "    pl.update()\n",
    "    return None\n",
    "\n",
    "cmap_widget =Dropdown(options=sequential_cmaps,value='magma',description=\"Colormap\",indent=False,layout=Layout(width='175px'))\n",
    "cmap_widget.observe(update_colormap,names='value')\n",
    "\n",
    "checkbox_layout = Layout(width='175px')\n",
    "\n",
    "vol_checkbox = Checkbox(\n",
    "    value=True,\n",
    "    description='Show Vol',\n",
    "    indent=True,\n",
    "    layout=checkbox_layout,\n",
    ")\n",
    "vol_checkbox.observe(toggle_vol,names='value')\n",
    "\n",
    "clip_checkbox = Checkbox(\n",
    "    value=False,\n",
    "    description='Clip Plane',\n",
    "    indent=True,\n",
    "    layout=checkbox_layout,\n",
    ")\n",
    "clip_checkbox.observe(toggle_clip_plane,names='value')\n",
    "\n",
    "cx_checkbox = Checkbox(\n",
    "    value=False,\n",
    "    description='x axis slice',\n",
    "    indent=True,\n",
    "    layout=checkbox_layout,\n",
    ")\n",
    "cx_checkbox.observe(toggle_x_slice,names='value')\n",
    "\n",
    "cy_checkbox = Checkbox(\n",
    "    value=False,\n",
    "    description='y axis slice',\n",
    "    indent=True,\n",
    "    layout=checkbox_layout,\n",
    ")\n",
    "cy_checkbox.observe(toggle_y_slice,names='value')\n",
    "\n",
    "cz_checkbox = Checkbox(\n",
    "    value=False,\n",
    "    description='z axis slice',\n",
    "    indent=True,\n",
    "    layout=checkbox_layout,\n",
    ")\n",
    "cz_checkbox.observe(toggle_z_slice,names='value')\n",
    "\n",
    "slider_layout = Layout(width='175px')\n",
    "cx_slider = IntSlider(\n",
    "    value=nx//2,\n",
    "    min=0,\n",
    "    max=nx-1,\n",
    "    description='x index',\n",
    "    continuous_update=False,\n",
    "    layout=slider_layout,\n",
    "    readout=False,\n",
    ")\n",
    "cx_slider.observe(update_x_slice,names='value')\n",
    "\n",
    "cy_slider = IntSlider(\n",
    "    value=ny//2,\n",
    "    min=0,\n",
    "    max=ny-1,\n",
    "    description='y index',\n",
    "    continuous_update=False,\n",
    "    layout=slider_layout,\n",
    "    readout=False,\n",
    ")\n",
    "cy_slider.observe(update_y_slice,names='value')\n",
    "\n",
    "cz_slider = IntSlider(\n",
    "    value=nz//2,\n",
    "    min=0,\n",
    "    max=nz-1,\n",
    "    description='z index',\n",
    "    continuous_update=False,\n",
    "    layout=slider_layout,\n",
    "    readout=False,\n",
    ")\n",
    "cz_slider.observe(update_z_slice,names='value')\n",
    "\n",
    "controls_layout = Layout(\n",
    "    display='flex',\n",
    "    flex_flow='column',\n",
    "    align_items='center',\n",
    "    width='200px'\n",
    ")\n",
    "\n",
    "controls = VBox(\n",
    "    [\n",
    "        Label(\"General Controls\"),\n",
    "        cmap_widget,\n",
    "        vol_checkbox,\n",
    "        clip_checkbox,\n",
    "        Label(\"Slice Controls\"),\n",
    "        cx_checkbox,\n",
    "        cy_checkbox,\n",
    "        cz_checkbox,\n",
    "        Label(\"Indices Controls\"),\n",
    "        cx_slider,\n",
    "        cy_slider,\n",
    "        cz_slider\n",
    "    ],\n",
    "    layout=controls_layout\n",
    ")\n",
    "\n",
    "visualization_layout = Layout(\n",
    "    display='flex',\n",
    "    flex_flow='row',\n",
    "    align_items='center',\n",
    "    width='600px'\n",
    ")\n",
    "\n",
    "display(\n",
    "    HBox([\n",
    "        viewer,\n",
    "        controls\n",
    "    ],\n",
    "        layout=visualization_layout\n",
    "        )\n",
    ")"
   ]
  },
  {
   "cell_type": "code",
   "execution_count": null,
   "id": "d00afed5-d973-4454-a4f6-33e8d825430b",
   "metadata": {},
   "outputs": [],
   "source": []
  }
 ],
 "metadata": {
  "kernelspec": {
   "display_name": "Python 3 (ipykernel)",
   "language": "python",
   "name": "python3"
  },
  "language_info": {
   "codemirror_mode": {
    "name": "ipython",
    "version": 3
   },
   "file_extension": ".py",
   "mimetype": "text/x-python",
   "name": "python",
   "nbconvert_exporter": "python",
   "pygments_lexer": "ipython3",
   "version": "3.11.4"
  },
  "widgets": {
   "application/vnd.jupyter.widget-state+json": {
    "state": {
     "050aad22d7834f3ca6b16be84139c990": {
      "model_module": "@jupyter-widgets/controls",
      "model_module_version": "2.0.0",
      "model_name": "LabelStyleModel",
      "state": {
       "description_width": "",
       "font_family": null,
       "font_size": null,
       "font_style": null,
       "font_variant": null,
       "font_weight": null,
       "text_color": null,
       "text_decoration": null
      }
     },
     "07c34a32ef9347668a8b0169cd0cdd9e": {
      "model_module": "@jupyter-widgets/controls",
      "model_module_version": "2.0.0",
      "model_name": "SliderStyleModel",
      "state": {
       "description_width": ""
      }
     },
     "24764692d52c4fb48460a6f44ea41811": {
      "model_module": "@jupyter-widgets/controls",
      "model_module_version": "2.0.0",
      "model_name": "VBoxModel",
      "state": {
       "children": [
        "IPY_MODEL_cec693af315c49529571306f18be97e3",
        "IPY_MODEL_551265f233814425bcd28a958c2bcea0",
        "IPY_MODEL_8cb23d5b33654d42adadff8fe2154ab7",
        "IPY_MODEL_e95799b550544679b146faddeff01f42",
        "IPY_MODEL_e6ad9f8f96114329a98499435cc1c425",
        "IPY_MODEL_bde52bcb92c14c9db9c7925bb8e8edfe",
        "IPY_MODEL_385010f6904544719b85628d64a98cd4",
        "IPY_MODEL_ff5e93a5d42b45d7b7ae16c458f5f435",
        "IPY_MODEL_fe8a6ee07c5146638027a78e9c118d13",
        "IPY_MODEL_3055b889ad7847078fd138438f70ffab",
        "IPY_MODEL_5076000bb72d4b6ab4e8dddb402bd698",
        "IPY_MODEL_de8f43b28db648d7bcd6541b5b668025"
       ],
       "layout": "IPY_MODEL_de18b4e85cb04a4c9dde438ffb2f91cb"
      }
     },
     "2a0a201b733d4ace93560ef5551be75f": {
      "model_module": "@jupyter-widgets/base",
      "model_module_version": "2.0.0",
      "model_name": "LayoutModel",
      "state": {}
     },
     "2f6009cbf18d492bba0b288e4e21e95c": {
      "model_module": "@jupyter-widgets/controls",
      "model_module_version": "2.0.0",
      "model_name": "CheckboxStyleModel",
      "state": {
       "description_width": ""
      }
     },
     "3055b889ad7847078fd138438f70ffab": {
      "model_module": "@jupyter-widgets/controls",
      "model_module_version": "2.0.0",
      "model_name": "IntSliderModel",
      "state": {
       "behavior": "drag-tap",
       "continuous_update": false,
       "description": "x index",
       "layout": "IPY_MODEL_ccc48cea994f42caa0048bd9c70c3d82",
       "max": 105,
       "readout": false,
       "style": "IPY_MODEL_803db7da588f4224870fb7dd8b7e1b89",
       "value": 53
      }
     },
     "30903fdf415a41dd83eaa6d29079426c": {
      "model_module": "@jupyter-widgets/base",
      "model_module_version": "2.0.0",
      "model_name": "LayoutModel",
      "state": {}
     },
     "353790c35d0846868d5f41f6aa7ec79a": {
      "model_module": "@jupyter-widgets/controls",
      "model_module_version": "2.0.0",
      "model_name": "CheckboxStyleModel",
      "state": {
       "description_width": ""
      }
     },
     "385010f6904544719b85628d64a98cd4": {
      "model_module": "@jupyter-widgets/controls",
      "model_module_version": "2.0.0",
      "model_name": "CheckboxModel",
      "state": {
       "description": "y axis slice",
       "disabled": false,
       "layout": "IPY_MODEL_cc41b917cfa240e199279e625bd7c86d",
       "style": "IPY_MODEL_784cdf7383d74b7e90b7cb2b1232583f",
       "value": false
      }
     },
     "3c408ad89f394c94b3f6ea14c4b19fd0": {
      "model_module": "@jupyter-widgets/controls",
      "model_module_version": "2.0.0",
      "model_name": "HTMLStyleModel",
      "state": {
       "description_width": "",
       "font_size": null,
       "text_color": null
      }
     },
     "4174f5b4e06740499e0e5eef08e3609a": {
      "model_module": "@jupyter-widgets/base",
      "model_module_version": "2.0.0",
      "model_name": "LayoutModel",
      "state": {
       "width": "175px"
      }
     },
     "4b476bba538a4f2992acbb8552cbd75c": {
      "model_module": "@jupyter-widgets/controls",
      "model_module_version": "2.0.0",
      "model_name": "SliderStyleModel",
      "state": {
       "description_width": ""
      }
     },
     "5076000bb72d4b6ab4e8dddb402bd698": {
      "model_module": "@jupyter-widgets/controls",
      "model_module_version": "2.0.0",
      "model_name": "IntSliderModel",
      "state": {
       "behavior": "drag-tap",
       "continuous_update": false,
       "description": "y index",
       "layout": "IPY_MODEL_ccc48cea994f42caa0048bd9c70c3d82",
       "max": 95,
       "readout": false,
       "style": "IPY_MODEL_07c34a32ef9347668a8b0169cd0cdd9e",
       "value": 48
      }
     },
     "54c7a1a6692a49fdb8fc6d04f45bede8": {
      "model_module": "@jupyter-widgets/base",
      "model_module_version": "2.0.0",
      "model_name": "LayoutModel",
      "state": {}
     },
     "551265f233814425bcd28a958c2bcea0": {
      "model_module": "@jupyter-widgets/controls",
      "model_module_version": "2.0.0",
      "model_name": "DropdownModel",
      "state": {
       "_options_labels": [
        "viridis",
        "plasma",
        "inferno",
        "magma",
        "cividis",
        "turbo",
        "Greys",
        "Purples",
        "Blues",
        "Greens",
        "Oranges",
        "Reds",
        "YlOrBr",
        "YlOrRd",
        "OrRd",
        "PuRd",
        "RdPu",
        "BuPu",
        "GnBu",
        "PuBu",
        "YlGnBu",
        "PuBuGn",
        "BuGn",
        "YlGn"
       ],
       "description": "Colormap",
       "index": 3,
       "layout": "IPY_MODEL_4174f5b4e06740499e0e5eef08e3609a",
       "style": "IPY_MODEL_d3d5af6a0a004efea0090ffda2bbd1c0"
      }
     },
     "697ed4ae16ed40a1a5a92c12a8b6b532": {
      "model_module": "@jupyter-widgets/controls",
      "model_module_version": "2.0.0",
      "model_name": "CheckboxStyleModel",
      "state": {
       "description_width": ""
      }
     },
     "784cdf7383d74b7e90b7cb2b1232583f": {
      "model_module": "@jupyter-widgets/controls",
      "model_module_version": "2.0.0",
      "model_name": "CheckboxStyleModel",
      "state": {
       "description_width": ""
      }
     },
     "803db7da588f4224870fb7dd8b7e1b89": {
      "model_module": "@jupyter-widgets/controls",
      "model_module_version": "2.0.0",
      "model_name": "SliderStyleModel",
      "state": {
       "description_width": ""
      }
     },
     "8c216bb053f74844a3fdd664f8d6cd9a": {
      "model_module": "@jupyter-widgets/base",
      "model_module_version": "2.0.0",
      "model_name": "LayoutModel",
      "state": {
       "align_items": "center",
       "display": "flex",
       "flex_flow": "row",
       "width": "600px"
      }
     },
     "8cb23d5b33654d42adadff8fe2154ab7": {
      "model_module": "@jupyter-widgets/controls",
      "model_module_version": "2.0.0",
      "model_name": "CheckboxModel",
      "state": {
       "description": "Show Vol",
       "disabled": false,
       "layout": "IPY_MODEL_cc41b917cfa240e199279e625bd7c86d",
       "style": "IPY_MODEL_697ed4ae16ed40a1a5a92c12a8b6b532",
       "value": true
      }
     },
     "bde52bcb92c14c9db9c7925bb8e8edfe": {
      "model_module": "@jupyter-widgets/controls",
      "model_module_version": "2.0.0",
      "model_name": "CheckboxModel",
      "state": {
       "description": "x axis slice",
       "disabled": false,
       "layout": "IPY_MODEL_cc41b917cfa240e199279e625bd7c86d",
       "style": "IPY_MODEL_353790c35d0846868d5f41f6aa7ec79a",
       "value": false
      }
     },
     "cc41b917cfa240e199279e625bd7c86d": {
      "model_module": "@jupyter-widgets/base",
      "model_module_version": "2.0.0",
      "model_name": "LayoutModel",
      "state": {
       "width": "175px"
      }
     },
     "ccc48cea994f42caa0048bd9c70c3d82": {
      "model_module": "@jupyter-widgets/base",
      "model_module_version": "2.0.0",
      "model_name": "LayoutModel",
      "state": {
       "width": "175px"
      }
     },
     "cec693af315c49529571306f18be97e3": {
      "model_module": "@jupyter-widgets/controls",
      "model_module_version": "2.0.0",
      "model_name": "LabelModel",
      "state": {
       "layout": "IPY_MODEL_e4fbcb47599c4d8d94c9955878ca4cba",
       "style": "IPY_MODEL_fe965559026246c2872bd5aaa382060c",
       "value": "General Controls"
      }
     },
     "d2d4c4b014cc45f08442187bd0d86241": {
      "model_module": "@jupyter-widgets/controls",
      "model_module_version": "2.0.0",
      "model_name": "HBoxModel",
      "state": {
       "children": [
        "IPY_MODEL_f2822ca6507c4eb6bd281eaf3388f534",
        "IPY_MODEL_24764692d52c4fb48460a6f44ea41811"
       ],
       "layout": "IPY_MODEL_8c216bb053f74844a3fdd664f8d6cd9a"
      }
     },
     "d3d5af6a0a004efea0090ffda2bbd1c0": {
      "model_module": "@jupyter-widgets/controls",
      "model_module_version": "2.0.0",
      "model_name": "DescriptionStyleModel",
      "state": {
       "description_width": ""
      }
     },
     "de18b4e85cb04a4c9dde438ffb2f91cb": {
      "model_module": "@jupyter-widgets/base",
      "model_module_version": "2.0.0",
      "model_name": "LayoutModel",
      "state": {
       "align_items": "center",
       "display": "flex",
       "flex_flow": "column",
       "width": "200px"
      }
     },
     "de8f43b28db648d7bcd6541b5b668025": {
      "model_module": "@jupyter-widgets/controls",
      "model_module_version": "2.0.0",
      "model_name": "IntSliderModel",
      "state": {
       "behavior": "drag-tap",
       "continuous_update": false,
       "description": "z index",
       "layout": "IPY_MODEL_ccc48cea994f42caa0048bd9c70c3d82",
       "max": 95,
       "readout": false,
       "style": "IPY_MODEL_4b476bba538a4f2992acbb8552cbd75c",
       "value": 48
      }
     },
     "e253635264d747e8a626f4bff0f9926f": {
      "model_module": "@jupyter-widgets/controls",
      "model_module_version": "2.0.0",
      "model_name": "CheckboxStyleModel",
      "state": {
       "description_width": ""
      }
     },
     "e4fbcb47599c4d8d94c9955878ca4cba": {
      "model_module": "@jupyter-widgets/base",
      "model_module_version": "2.0.0",
      "model_name": "LayoutModel",
      "state": {}
     },
     "e6ad9f8f96114329a98499435cc1c425": {
      "model_module": "@jupyter-widgets/controls",
      "model_module_version": "2.0.0",
      "model_name": "LabelModel",
      "state": {
       "layout": "IPY_MODEL_2a0a201b733d4ace93560ef5551be75f",
       "style": "IPY_MODEL_050aad22d7834f3ca6b16be84139c990",
       "value": "Slice Controls"
      }
     },
     "e95799b550544679b146faddeff01f42": {
      "model_module": "@jupyter-widgets/controls",
      "model_module_version": "2.0.0",
      "model_name": "CheckboxModel",
      "state": {
       "description": "Clip Plane",
       "disabled": false,
       "layout": "IPY_MODEL_cc41b917cfa240e199279e625bd7c86d",
       "style": "IPY_MODEL_e253635264d747e8a626f4bff0f9926f",
       "value": false
      }
     },
     "f2822ca6507c4eb6bd281eaf3388f534": {
      "model_module": "@jupyter-widgets/controls",
      "model_module_version": "2.0.0",
      "model_name": "HTMLModel",
      "state": {
       "layout": "IPY_MODEL_54c7a1a6692a49fdb8fc6d04f45bede8",
       "style": "IPY_MODEL_3c408ad89f394c94b3f6ea14c4b19fd0",
       "value": "<iframe src='http://localhost:44187/index.html?ui=P_0x7f0c771a2810_0&reconnect=auto' style='width: 400px; height: 400px;'></iframe>"
      }
     },
     "fbe1a916a50f4b8a9db156b76d844f4b": {
      "model_module": "@jupyter-widgets/controls",
      "model_module_version": "2.0.0",
      "model_name": "LabelStyleModel",
      "state": {
       "description_width": "",
       "font_family": null,
       "font_size": null,
       "font_style": null,
       "font_variant": null,
       "font_weight": null,
       "text_color": null,
       "text_decoration": null
      }
     },
     "fe8a6ee07c5146638027a78e9c118d13": {
      "model_module": "@jupyter-widgets/controls",
      "model_module_version": "2.0.0",
      "model_name": "LabelModel",
      "state": {
       "layout": "IPY_MODEL_30903fdf415a41dd83eaa6d29079426c",
       "style": "IPY_MODEL_fbe1a916a50f4b8a9db156b76d844f4b",
       "value": "Indices Controls"
      }
     },
     "fe965559026246c2872bd5aaa382060c": {
      "model_module": "@jupyter-widgets/controls",
      "model_module_version": "2.0.0",
      "model_name": "LabelStyleModel",
      "state": {
       "description_width": "",
       "font_family": null,
       "font_size": null,
       "font_style": null,
       "font_variant": null,
       "font_weight": null,
       "text_color": null,
       "text_decoration": null
      }
     },
     "ff5e93a5d42b45d7b7ae16c458f5f435": {
      "model_module": "@jupyter-widgets/controls",
      "model_module_version": "2.0.0",
      "model_name": "CheckboxModel",
      "state": {
       "description": "z axis slice",
       "disabled": false,
       "layout": "IPY_MODEL_cc41b917cfa240e199279e625bd7c86d",
       "style": "IPY_MODEL_2f6009cbf18d492bba0b288e4e21e95c",
       "value": false
      }
     }
    },
    "version_major": 2,
    "version_minor": 0
   }
  }
 },
 "nbformat": 4,
 "nbformat_minor": 5
}
