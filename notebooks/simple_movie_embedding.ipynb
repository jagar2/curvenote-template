{
 "cells": [
  {
   "cell_type": "markdown",
   "id": "4f3fdea3-0f4d-4b9e-b3c5-907c3cc7ca48",
   "metadata": {},
   "source": [
    "---\n",
    "title: Simple movie embedding\n",
    "author: Georgios Varnavides\n",
    "date: 2023/07/30\n",
    "---\n",
    "\n",
    "This is an example widget illustrating simple video embedding in html using ipywidgets."
   ]
  },
  {
   "cell_type": "code",
   "execution_count": 1,
   "id": "45fb00b2-8cfb-4a98-92f2-4ba266ab57d9",
   "metadata": {},
   "outputs": [
    {
     "data": {
      "application/vnd.jupyter.widget-view+json": {
       "model_id": "3f6953880c6641a283f1c15bc0ea52ba",
       "version_major": 2,
       "version_minor": 0
      },
      "text/plain": [
       "Video(value=b'\\x00\\x00\\x00 ftypmp42\\x00\\x00\\x02\\x00isomiso2avc1mp41\\x00\\x00\\x00\\x08free...', autoplay='False',…"
      ]
     },
     "execution_count": 1,
     "metadata": {},
     "output_type": "execute_result"
    }
   ],
   "source": [
    "#| label: app:simple_movie_embedding\n",
    "# Widget for simple embedding of video files.\n",
    "\n",
    "from ipywidgets import Video\n",
    "\n",
    "Video.from_file(\n",
    "    filename=\"data/STEM4D_remake.mp4\",\n",
    "    format=\"mp4\",\n",
    "    width=300,\n",
    "    autoplay=False,\n",
    "    loop=True,\n",
    "    controls=True,\n",
    "    )"
   ]
  }
 ],
 "metadata": {
  "kernelspec": {
   "display_name": "Python 3 (ipykernel)",
   "language": "python",
   "name": "python3"
  },
  "language_info": {
   "codemirror_mode": {
    "name": "ipython",
    "version": 3
   },
   "file_extension": ".py",
   "mimetype": "text/x-python",
   "name": "python",
   "nbconvert_exporter": "python",
   "pygments_lexer": "ipython3",
   "version": "3.11.4"
  },
  "widgets": {
   "application/vnd.jupyter.widget-state+json": {
    "state": {},
    "version_major": 2,
    "version_minor": 0
   }
  }
 },
 "nbformat": 4,
 "nbformat_minor": 5
}
