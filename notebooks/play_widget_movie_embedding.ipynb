{
 "cells": [
  {
   "cell_type": "markdown",
   "id": "83eca483-e2bd-4568-8e34-0611f770dfec",
   "metadata": {},
   "source": [
    "---\n",
    "title: Play widget movie embedding\n",
    "author: Georgios Varnavides\n",
    "date: 2023/07/30\n",
    "---\n",
    "\n",
    "This is an example widget illustrating a more complicated movie embedding using ipywidgets, allowing one to toggle a scalebar on/off."
   ]
  },
  {
   "cell_type": "code",
   "execution_count": 4,
   "id": "8f243531-9795-4247-b2ab-262c38038632",
   "metadata": {},
   "outputs": [
    {
     "data": {
      "application/vnd.jupyter.widget-view+json": {
       "model_id": "e8be128ef7ac42fbbd6077c5ceca8edc",
       "version_major": 2,
       "version_minor": 0
      },
      "text/plain": [
       "interactive(children=(Play(value=0, description='index', interval=50, max=431), Checkbox(value=False, descript…"
      ]
     },
     "metadata": {},
     "output_type": "display_data"
    }
   ],
   "source": [
    "#| label: app:movie_embedding_widget\n",
    "# Widget for more complex combinations of movies and interactive widgets.\n",
    "\n",
    "from ipywidgets import interact, fixed, Play, Checkbox\n",
    "import matplotlib.pyplot as plt\n",
    "import imageio as iio\n",
    "\n",
    "dpi = 100\n",
    "\n",
    "def display_frame(video, index, scale_bar):\n",
    "    fig, ax = plt.subplots(figsize=(484/dpi, 484/dpi), dpi=dpi)\n",
    "    array = video.get_data(index)\n",
    "    ax.imshow(array)\n",
    "    ax.axis('off')\n",
    "\n",
    "    if scale_bar:\n",
    "        ax.plot((20,70),(484-20,484-20),lw=5,color='white')\n",
    "        ax.text((70+20)/2,484-20-10,\"2 nm\",color='white',ha='center')\n",
    "    \n",
    "    return None\n",
    "\n",
    "vid = iio.get_reader(\"data/45grains_compressed.mp4\")\n",
    "num_frames = vid.count_frames()\n",
    "\n",
    "interact(\n",
    "    display_frame,\n",
    "    video=fixed(vid),\n",
    "    scale_bar=Checkbox(value=False,description=\"Show scale bar\",indent=False),\n",
    "    index=Play(value=0,min=0,max=num_frames-1,step=1,interval=50)\n",
    ");"
   ]
  }
 ],
 "metadata": {
  "kernelspec": {
   "display_name": "Python 3 (ipykernel)",
   "language": "python",
   "name": "python3"
  },
  "language_info": {
   "codemirror_mode": {
    "name": "ipython",
    "version": 3
   },
   "file_extension": ".py",
   "mimetype": "text/x-python",
   "name": "python",
   "nbconvert_exporter": "python",
   "pygments_lexer": "ipython3",
   "version": "3.11.4"
  },
  "widgets": {
   "application/vnd.jupyter.widget-state+json": {
    "state": {},
    "version_major": 2,
    "version_minor": 0
   }
  }
 },
 "nbformat": 4,
 "nbformat_minor": 5
}
