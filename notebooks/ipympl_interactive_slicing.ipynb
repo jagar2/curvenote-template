{
 "cells": [
  {
   "cell_type": "markdown",
   "id": "4758b475-2206-4a82-8610-0ed9362ab0c4",
   "metadata": {},
   "source": [
    "---\n",
    "title: ipympl + ipywidgets volume slicing\n",
    "author: Georgios Varnavides\n",
    "date: 2023/07/30\n",
    "---\n",
    "\n",
    "This is an example widget illustrating how to use ipympl and ipywidgets together for 3D volume slicing."
   ]
  },
  {
   "cell_type": "code",
   "execution_count": 1,
   "id": "0cd69fef-9076-44e4-8d7b-55b7e55cee9f",
   "metadata": {},
   "outputs": [
    {
     "data": {
      "application/vnd.jupyter.widget-view+json": {
       "model_id": "067b55fb25ba4d57881917673767bd46",
       "version_major": 2,
       "version_minor": 0
      },
      "text/plain": [
       "HBox(children=(Canvas(footer_visible=False, header_visible=False, layout=Layout(width='400px'), resizable=Fals…"
      ]
     },
     "metadata": {},
     "output_type": "display_data"
    }
   ],
   "source": [
    "#| label: app:ipympl_interactive_ipywidgets_slicing\n",
    "# Widget combining ipympl + ipywidgets for volume slicing.\n",
    "\n",
    "%matplotlib widget\n",
    "\n",
    "from IPython.display import display\n",
    "import matplotlib.pyplot as plt\n",
    "import types\n",
    "from ipywidgets import Dropdown, IntSlider, Layout, HBox, VBox, Checkbox, Label\n",
    "import numpy as np\n",
    "import h5py\n",
    "\n",
    "plt.ioff()\n",
    "\n",
    "# Data\n",
    "with h5py.File(\"data/CNT_overlap_tomo_missing.h5\",\"r\") as f:\n",
    "    data = f['reconstruction'][:]\n",
    "\n",
    "# Define dimensions\n",
    "nx, ny, nz = data.shape\n",
    "X, Y, Z = np.mgrid[0:nx,0:ny,0:nz]\n",
    "\n",
    "dpi = 70\n",
    "\n",
    "# Create a figure with 3D ax\n",
    "fig = plt.figure(figsize=(400/dpi, 400/dpi), dpi=dpi)\n",
    "\n",
    "fig.canvas.resizable = False\n",
    "fig.canvas.header_visible = False\n",
    "fig.canvas.footer_visible = False\n",
    "fig.canvas.toolbar_visible = True\n",
    "fig.canvas.layout.width = '400px'\n",
    "fig.canvas.toolbar_position = 'bottom'\n",
    "\n",
    "ax = fig.add_subplot(111, projection='3d')\n",
    "\n",
    "kw = {\n",
    "    'vmin': data.min(),\n",
    "    'vmax': data.max(),\n",
    "    'alpha':0.875,\n",
    "    'cmap': 'magma',\n",
    "    'levels': np.linspace(data.min(), data.max(), 21),\n",
    "    #'locator':ticker.LogLocator()\n",
    "}\n",
    "\n",
    "# Plot contour surfaces\n",
    "Cz = ax.contourf(\n",
    "    X[:, :, nz//2], Y[:, :, nz//2], data[:, :, nz//2],\n",
    "    zdir='z', offset=nz//2, **kw\n",
    ")\n",
    "\n",
    "Cy = ax.contourf(\n",
    "    X[:, ny//2, :], data[:, ny//2, :], Z[:, ny//2, :],\n",
    "    zdir='y', offset=ny//2, **kw\n",
    ")\n",
    "\n",
    "Cx = ax.contourf(\n",
    "    data[nx//2, :, :], Y[nx//2, :, :], Z[nx//2, :, :],\n",
    "    zdir='x', offset=nx//2, **kw\n",
    ")\n",
    "\n",
    "Cs = [Cx,Cy,Cz]\n",
    "\n",
    "def setvisible(self,vis):\n",
    "    for c in self.collections: c.set_visible(vis)\n",
    "        \n",
    "Cx.set_visible = types.MethodType(setvisible,Cx)\n",
    "Cy.set_visible = types.MethodType(setvisible,Cy)\n",
    "Cz.set_visible = types.MethodType(setvisible,Cz)\n",
    "\n",
    "xmin, xmax = X.min(), X.max()\n",
    "ymin, ymax = Y.min(), Y.max()\n",
    "zmin, zmax = Z.min(), Z.max()\n",
    "ax.set(xlim=[xmin, xmax], ylim=[ymin, ymax], zlim=[zmin, zmax])\n",
    "\n",
    "ax.axis('off')\n",
    "ax.set_box_aspect((1,1,1))\n",
    "\n",
    "# Colorbar\n",
    "fig.colorbar(Cz, ax=ax,fraction=0.025,pad=0.025,location='right',format='%.3f')\n",
    "fig.tight_layout()\n",
    "\n",
    "def update_x_slice(change):\n",
    "    offset = change['new']\n",
    "    Cs[0].remove()\n",
    "    Cs[0] = ax.contourf(\n",
    "        data[offset, :, :], Y[offset, :, :], Z[offset, :, :],\n",
    "        zdir='x', offset=offset, **kw\n",
    "    )\n",
    "    Cs[0].set_visible = types.MethodType(setvisible,Cs[0])\n",
    "    fig.canvas.draw_idle()\n",
    "    return None\n",
    "\n",
    "def update_y_slice(change):\n",
    "    offset = change['new']\n",
    "    Cs[1].remove()\n",
    "    Cs[1] = ax.contourf(\n",
    "        X[:, offset, :], data[:, offset, :], Z[:, offset, :],\n",
    "        zdir='y', offset=offset, **kw\n",
    "    )\n",
    "    Cs[1].set_visible = types.MethodType(setvisible,Cs[1])\n",
    "    fig.canvas.draw_idle()\n",
    "    return None\n",
    "\n",
    "def update_z_slice(change):\n",
    "    offset = change['new']\n",
    "    Cs[2].remove()\n",
    "    Cs[2] = ax.contourf(\n",
    "        X[:, :, offset], Y[:, :, offset], data[:, :, offset],\n",
    "        zdir='z', offset=offset, **kw\n",
    "    )\n",
    "    Cs[2].set_visible = types.MethodType(setvisible,Cs[2])\n",
    "    fig.canvas.draw_idle()\n",
    "    return None\n",
    "    \n",
    "def toggle_x_slice(change):\n",
    "    visible = change['new']\n",
    "    Cs[0].set_visible(visible)\n",
    "    fig.canvas.draw_idle()\n",
    "    return None\n",
    "\n",
    "def toggle_y_slice(change):\n",
    "    visible = change['new']\n",
    "    Cs[1].set_visible(visible)\n",
    "    fig.canvas.draw_idle()\n",
    "    return None\n",
    "\n",
    "def toggle_z_slice(change):\n",
    "    visible = change['new']\n",
    "    Cs[2].set_visible(visible)\n",
    "    fig.canvas.draw_idle()\n",
    "    return None\n",
    "\n",
    "checkbox_layout = Layout(width='175px')\n",
    "cx_checkbox = Checkbox(\n",
    "    value=True,\n",
    "    description='x axis slice',\n",
    "    indent=True,\n",
    "    layout=checkbox_layout,\n",
    ")\n",
    "cx_checkbox.observe(toggle_x_slice,names='value')\n",
    "\n",
    "cy_checkbox = Checkbox(\n",
    "    value=True,\n",
    "    description='y axis slice',\n",
    "    indent=True,\n",
    "    layout=checkbox_layout,\n",
    ")\n",
    "cy_checkbox.observe(toggle_y_slice,names='value')\n",
    "\n",
    "cz_checkbox = Checkbox(\n",
    "    value=True,\n",
    "    description='z axis slice',\n",
    "    indent=True,\n",
    "    layout=checkbox_layout,\n",
    ")\n",
    "cz_checkbox.observe(toggle_z_slice,names='value')\n",
    "\n",
    "slider_layout = Layout(width='175px')\n",
    "cx_slider = IntSlider(\n",
    "    value=nx//2,\n",
    "    min=0,\n",
    "    max=nx,\n",
    "    description='x index',\n",
    "    continuous_update=False,\n",
    "    layout=slider_layout,\n",
    "    readout=False,\n",
    ")\n",
    "cx_slider.observe(update_x_slice,names='value')\n",
    "\n",
    "cy_slider = IntSlider(\n",
    "    value=ny//2,\n",
    "    min=0,\n",
    "    max=ny,\n",
    "    description='y index',\n",
    "    continuous_update=False,\n",
    "    layout=slider_layout,\n",
    "    readout=False,\n",
    ")\n",
    "cy_slider.observe(update_y_slice,names='value')\n",
    "\n",
    "cz_slider = IntSlider(\n",
    "    value=nz//2,\n",
    "    min=0,\n",
    "    max=nz,\n",
    "    description='z index',\n",
    "    continuous_update=False,\n",
    "    layout=slider_layout,\n",
    "    readout=False,\n",
    ")\n",
    "cz_slider.observe(update_z_slice,names='value')\n",
    "\n",
    "controls_layout = Layout(\n",
    "    display='flex',\n",
    "    flex_flow='column',\n",
    "    align_items='center',\n",
    "    width='200px'\n",
    ")\n",
    "\n",
    "controls = VBox(\n",
    "    [\n",
    "        Label(\"Slice Controls\"),\n",
    "        cx_checkbox,\n",
    "        cy_checkbox,\n",
    "        cz_checkbox,\n",
    "        Label(\"Indices Controls\"),\n",
    "        cx_slider,\n",
    "        cy_slider,\n",
    "        cz_slider\n",
    "    ],\n",
    "    layout=controls_layout\n",
    ")\n",
    "\n",
    "visualization_layout = Layout(\n",
    "    display='flex',\n",
    "    flex_flow='row',\n",
    "    align_items='center',\n",
    "    width='600px'\n",
    ")\n",
    "\n",
    "display(\n",
    "    HBox([\n",
    "        fig.canvas,\n",
    "        controls\n",
    "    ],\n",
    "        layout=visualization_layout\n",
    "        )\n",
    ")"
   ]
  },
  {
   "cell_type": "code",
   "execution_count": null,
   "id": "ff512c03-2e4d-4c85-b218-327665ea9de0",
   "metadata": {},
   "outputs": [],
   "source": []
  }
 ],
 "metadata": {
  "kernelspec": {
   "display_name": "Python 3 (ipykernel)",
   "language": "python",
   "name": "python3"
  },
  "language_info": {
   "codemirror_mode": {
    "name": "ipython",
    "version": 3
   },
   "file_extension": ".py",
   "mimetype": "text/x-python",
   "name": "python",
   "nbconvert_exporter": "python",
   "pygments_lexer": "ipython3",
   "version": "3.11.4"
  },
  "widgets": {
   "application/vnd.jupyter.widget-state+json": {
    "state": {
     "067b55fb25ba4d57881917673767bd46": {
      "model_module": "@jupyter-widgets/controls",
      "model_module_version": "2.0.0",
      "model_name": "HBoxModel",
      "state": {
       "children": [
        "IPY_MODEL_c442a385275740a9b2a2a92696ef55a3",
        "IPY_MODEL_7e0e7dfc2bcb41dea3b0c48f3724832a"
       ],
       "layout": "IPY_MODEL_eccec2b6d48a40c991a61a41a67f52c4"
      }
     },
     "21840069fa6e40eeb50b7c7527486f52": {
      "model_module": "@jupyter-widgets/base",
      "model_module_version": "2.0.0",
      "model_name": "LayoutModel",
      "state": {}
     },
     "2a24975f33c048e89f5badce88d9f3bd": {
      "model_module": "@jupyter-widgets/controls",
      "model_module_version": "2.0.0",
      "model_name": "LabelModel",
      "state": {
       "layout": "IPY_MODEL_e40aafe1722b440681bcec27db70b511",
       "style": "IPY_MODEL_f88d5dabb378497e917f5de824e320ab",
       "value": "Slice Controls"
      }
     },
     "44f0aa0e9d9a4b02a1018148b302a005": {
      "model_module": "@jupyter-widgets/controls",
      "model_module_version": "2.0.0",
      "model_name": "SliderStyleModel",
      "state": {
       "description_width": ""
      }
     },
     "459a4d395f2249af850a3b5e0f5ae81c": {
      "model_module": "@jupyter-widgets/base",
      "model_module_version": "2.0.0",
      "model_name": "LayoutModel",
      "state": {
       "width": "175px"
      }
     },
     "49dbd91bb39d46b48ff3823c8036084b": {
      "model_module": "@jupyter-widgets/base",
      "model_module_version": "2.0.0",
      "model_name": "LayoutModel",
      "state": {
       "align_items": "center",
       "display": "flex",
       "flex_flow": "column",
       "width": "200px"
      }
     },
     "54b97599c09c4ca08a05e2a10a5b8b7f": {
      "model_module": "@jupyter-widgets/base",
      "model_module_version": "2.0.0",
      "model_name": "LayoutModel",
      "state": {}
     },
     "645b589b0b7546fcb5d70b298a68411c": {
      "model_module": "@jupyter-widgets/controls",
      "model_module_version": "2.0.0",
      "model_name": "IntSliderModel",
      "state": {
       "behavior": "drag-tap",
       "continuous_update": false,
       "description": "y index",
       "layout": "IPY_MODEL_459a4d395f2249af850a3b5e0f5ae81c",
       "max": 96,
       "readout": false,
       "style": "IPY_MODEL_94eb41f5ab2a43b2ab907b45ea2752e6",
       "value": 48
      }
     },
     "714c1069102e43599163070031fd6c78": {
      "model_module": "jupyter-matplotlib",
      "model_module_version": "^0.11",
      "model_name": "ToolbarModel",
      "state": {
       "_model_module_version": "^0.11",
       "_view_module_version": "^0.11",
       "collapsed": true,
       "layout": "IPY_MODEL_21840069fa6e40eeb50b7c7527486f52",
       "orientation": "vertical",
       "position": "bottom",
       "toolitems": [
        [
         "Home",
         "Reset original view",
         "home",
         "home"
        ],
        [
         "Back",
         "Back to previous view",
         "arrow-left",
         "back"
        ],
        [
         "Forward",
         "Forward to next view",
         "arrow-right",
         "forward"
        ],
        [
         "Pan",
         "Left button pans, Right button zooms\nx/y fixes axis, CTRL fixes aspect",
         "arrows",
         "pan"
        ],
        [
         "Zoom",
         "Zoom to rectangle\nx/y fixes axis",
         "square-o",
         "zoom"
        ],
        [
         "Download",
         "Download plot",
         "floppy-o",
         "save_figure"
        ]
       ]
      }
     },
     "7169b52ffe9046bf921db236dc66bc85": {
      "model_module": "@jupyter-widgets/base",
      "model_module_version": "2.0.0",
      "model_name": "LayoutModel",
      "state": {
       "width": "175px"
      }
     },
     "7e0e7dfc2bcb41dea3b0c48f3724832a": {
      "model_module": "@jupyter-widgets/controls",
      "model_module_version": "2.0.0",
      "model_name": "VBoxModel",
      "state": {
       "children": [
        "IPY_MODEL_2a24975f33c048e89f5badce88d9f3bd",
        "IPY_MODEL_f53b6a0011874295bee3bb45cea17a76",
        "IPY_MODEL_cdc65627344b42cbb94992a04c95aa35",
        "IPY_MODEL_e64b97b610ce4978a2cf4ef372206d58",
        "IPY_MODEL_8c944df9aaf44b0780494aa9fc90d687",
        "IPY_MODEL_d2b4264c031f4c949ce6df0b049fe574",
        "IPY_MODEL_645b589b0b7546fcb5d70b298a68411c",
        "IPY_MODEL_f04be58de8bc45bfba68fb2918b34c04"
       ],
       "layout": "IPY_MODEL_49dbd91bb39d46b48ff3823c8036084b"
      }
     },
     "88e46c4dd3ac448a9320522923621483": {
      "model_module": "@jupyter-widgets/controls",
      "model_module_version": "2.0.0",
      "model_name": "SliderStyleModel",
      "state": {
       "description_width": ""
      }
     },
     "8b6e67a0b25d4edcb370fe5dc499df64": {
      "model_module": "@jupyter-widgets/controls",
      "model_module_version": "2.0.0",
      "model_name": "CheckboxStyleModel",
      "state": {
       "description_width": ""
      }
     },
     "8c944df9aaf44b0780494aa9fc90d687": {
      "model_module": "@jupyter-widgets/controls",
      "model_module_version": "2.0.0",
      "model_name": "LabelModel",
      "state": {
       "layout": "IPY_MODEL_54b97599c09c4ca08a05e2a10a5b8b7f",
       "style": "IPY_MODEL_99f415bb72cb469bb067644100329433",
       "value": "Indices Controls"
      }
     },
     "94eb41f5ab2a43b2ab907b45ea2752e6": {
      "model_module": "@jupyter-widgets/controls",
      "model_module_version": "2.0.0",
      "model_name": "SliderStyleModel",
      "state": {
       "description_width": ""
      }
     },
     "99d9fe4351d34885b4c0154456e54afc": {
      "model_module": "@jupyter-widgets/base",
      "model_module_version": "2.0.0",
      "model_name": "LayoutModel",
      "state": {
       "width": "400px"
      }
     },
     "99f415bb72cb469bb067644100329433": {
      "model_module": "@jupyter-widgets/controls",
      "model_module_version": "2.0.0",
      "model_name": "LabelStyleModel",
      "state": {
       "description_width": "",
       "font_family": null,
       "font_size": null,
       "font_style": null,
       "font_variant": null,
       "font_weight": null,
       "text_color": null,
       "text_decoration": null
      }
     },
     "c442a385275740a9b2a2a92696ef55a3": {
      "model_module": "jupyter-matplotlib",
      "model_module_version": "^0.11",
      "model_name": "MPLCanvasModel",
      "state": {
       "_cursor": "default",
       "_data_url": "data:image/png;base64,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",
       "_figure_label": "Figure 1",
       "_model_module_version": "^0.11",
       "_size": [
        400,
        400
       ],
       "_view_module_version": "^0.11",
       "footer_visible": false,
       "header_visible": false,
       "layout": "IPY_MODEL_99d9fe4351d34885b4c0154456e54afc",
       "resizable": false,
       "toolbar": "IPY_MODEL_714c1069102e43599163070031fd6c78",
       "toolbar_position": "bottom",
       "toolbar_visible": true
      }
     },
     "cdc65627344b42cbb94992a04c95aa35": {
      "model_module": "@jupyter-widgets/controls",
      "model_module_version": "2.0.0",
      "model_name": "CheckboxModel",
      "state": {
       "description": "y axis slice",
       "disabled": false,
       "layout": "IPY_MODEL_7169b52ffe9046bf921db236dc66bc85",
       "style": "IPY_MODEL_e281c7f59cc448f19ea4929a774ea956",
       "value": true
      }
     },
     "d2b4264c031f4c949ce6df0b049fe574": {
      "model_module": "@jupyter-widgets/controls",
      "model_module_version": "2.0.0",
      "model_name": "IntSliderModel",
      "state": {
       "behavior": "drag-tap",
       "continuous_update": false,
       "description": "x index",
       "layout": "IPY_MODEL_459a4d395f2249af850a3b5e0f5ae81c",
       "max": 106,
       "readout": false,
       "style": "IPY_MODEL_44f0aa0e9d9a4b02a1018148b302a005",
       "value": 53
      }
     },
     "dd35655c2dec4eae8a9603efd4de54e2": {
      "model_module": "@jupyter-widgets/controls",
      "model_module_version": "2.0.0",
      "model_name": "CheckboxStyleModel",
      "state": {
       "description_width": ""
      }
     },
     "e281c7f59cc448f19ea4929a774ea956": {
      "model_module": "@jupyter-widgets/controls",
      "model_module_version": "2.0.0",
      "model_name": "CheckboxStyleModel",
      "state": {
       "description_width": ""
      }
     },
     "e40aafe1722b440681bcec27db70b511": {
      "model_module": "@jupyter-widgets/base",
      "model_module_version": "2.0.0",
      "model_name": "LayoutModel",
      "state": {}
     },
     "e64b97b610ce4978a2cf4ef372206d58": {
      "model_module": "@jupyter-widgets/controls",
      "model_module_version": "2.0.0",
      "model_name": "CheckboxModel",
      "state": {
       "description": "z axis slice",
       "disabled": false,
       "layout": "IPY_MODEL_7169b52ffe9046bf921db236dc66bc85",
       "style": "IPY_MODEL_8b6e67a0b25d4edcb370fe5dc499df64",
       "value": true
      }
     },
     "eccec2b6d48a40c991a61a41a67f52c4": {
      "model_module": "@jupyter-widgets/base",
      "model_module_version": "2.0.0",
      "model_name": "LayoutModel",
      "state": {
       "align_items": "center",
       "display": "flex",
       "flex_flow": "row",
       "width": "600px"
      }
     },
     "f04be58de8bc45bfba68fb2918b34c04": {
      "model_module": "@jupyter-widgets/controls",
      "model_module_version": "2.0.0",
      "model_name": "IntSliderModel",
      "state": {
       "behavior": "drag-tap",
       "continuous_update": false,
       "description": "z index",
       "layout": "IPY_MODEL_459a4d395f2249af850a3b5e0f5ae81c",
       "max": 96,
       "readout": false,
       "style": "IPY_MODEL_88e46c4dd3ac448a9320522923621483",
       "value": 48
      }
     },
     "f53b6a0011874295bee3bb45cea17a76": {
      "model_module": "@jupyter-widgets/controls",
      "model_module_version": "2.0.0",
      "model_name": "CheckboxModel",
      "state": {
       "description": "x axis slice",
       "disabled": false,
       "layout": "IPY_MODEL_7169b52ffe9046bf921db236dc66bc85",
       "style": "IPY_MODEL_dd35655c2dec4eae8a9603efd4de54e2",
       "value": true
      }
     },
     "f88d5dabb378497e917f5de824e320ab": {
      "model_module": "@jupyter-widgets/controls",
      "model_module_version": "2.0.0",
      "model_name": "LabelStyleModel",
      "state": {
       "description_width": "",
       "font_family": null,
       "font_size": null,
       "font_style": null,
       "font_variant": null,
       "font_weight": null,
       "text_color": null,
       "text_decoration": null
      }
     }
    },
    "version_major": 2,
    "version_minor": 0
   }
  }
 },
 "nbformat": 4,
 "nbformat_minor": 5
}
